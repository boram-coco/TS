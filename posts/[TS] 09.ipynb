{
 "cells": [
  {
   "cell_type": "raw",
   "id": "2e27c7c7-54a4-4f19-bbc4-38020e1bff15",
   "metadata": {},
   "source": [
    "---\n",
    "title: \"[TS] 09. Forecast 실습\"\n",
    "author: \"김보람\"\n",
    "date: \"12/04/2023\"\n",
    "categories:\n",
    "  - Time Series\n",
    "---"
   ]
  },
  {
   "cell_type": "code",
   "execution_count": null,
   "id": "a3b08b04-9f71-4a75-a21b-6fc3222f6ce4",
   "metadata": {},
   "outputs": [],
   "source": [
    "options(repr.plot.width = 12, repr.plot.height = 6)"
   ]
  },
  {
   "cell_type": "markdown",
   "id": "e0144074-aaf9-4126-ab60-897614afbd0c",
   "metadata": {},
   "source": [
    "# EX 8.7 모의 실험 데이터"
   ]
  },
  {
   "cell_type": "code",
   "execution_count": null,
   "id": "0c586b01-e8d2-4e0e-a511-28f3a7488aa5",
   "metadata": {},
   "outputs": [],
   "source": [
    "z <- scan(\"DAT/eg8_7.txt\")\n",
    "forecast::tsdisplay(z)"
   ]
  },
  {
   "cell_type": "code",
   "execution_count": null,
   "id": "93d48d28-dc04-480a-8d88-bfd662a18d8e",
   "metadata": {},
   "outputs": [],
   "source": [
    "forecast::ggtsdisplay(z,\n",
    "        smooth=T)"
   ]
  },
  {
   "cell_type": "code",
   "execution_count": null,
   "id": "60446ede-9f4a-476b-a520-33a3e3d5fc47",
   "metadata": {},
   "outputs": [],
   "source": [
    "fit <- arima(z, order=c(1,0,0), method='ML')\n",
    "fit"
   ]
  },
  {
   "cell_type": "code",
   "execution_count": null,
   "id": "0d20f601-9e02-4efb-8eeb-d0566840fa78",
   "metadata": {},
   "outputs": [],
   "source": [
    "mean(z)"
   ]
  },
  {
   "cell_type": "markdown",
   "id": "04e15dba-09f6-41b2-8e81-4bce012756a6",
   "metadata": {},
   "source": [
    "$\\hat Z_n(l) = \\hat μ + \\hat ϕ^l(Z_n − \\hat μ)$"
   ]
  },
  {
   "cell_type": "code",
   "execution_count": null,
   "id": "60dc8a25-d0a4-413b-85ee-975e8721a4d6",
   "metadata": {},
   "outputs": [],
   "source": [
    "forecast_fit <- forecast::forecast(fit, 25) #MMSE : zn(l) = mu + phi^l*(zn-mu), l=1,...,10\n",
    "forecast_fit"
   ]
  },
  {
   "cell_type": "code",
   "execution_count": null,
   "id": "a3a3864c-2ff2-4a0b-b47c-7a66bf66e481",
   "metadata": {},
   "outputs": [],
   "source": [
    "coef(fit)[2]"
   ]
  },
  {
   "cell_type": "code",
   "execution_count": null,
   "id": "4517ff92-a910-410a-b62a-b3a3ac3dcec0",
   "metadata": {},
   "outputs": [],
   "source": [
    "hat_phi <- coef(fit)[1]\n",
    "hat_mu <- coef(fit)[2]"
   ]
  },
  {
   "cell_type": "code",
   "execution_count": null,
   "id": "ccf214be-8869-4526-9cf3-337e02a9f6e7",
   "metadata": {},
   "outputs": [],
   "source": [
    "hat_mu + hat_phi * (z[100] - hat_mu) # l= 1 z_100_(1)\n",
    "hat_mu + hat_phi^2 * (z[100] - hat_mu) # l= 2 z_100_(2)"
   ]
  },
  {
   "cell_type": "code",
   "execution_count": null,
   "id": "7ece7778-fb77-47d8-93d7-6ebc89ae3533",
   "metadata": {},
   "outputs": [],
   "source": [
    "l <- 1:10\n",
    "sapply(l, function(x) hat_mu + hat_phi^x * (z[100] - hat_mu))"
   ]
  },
  {
   "cell_type": "code",
   "execution_count": null,
   "id": "95592bc0-72b0-4d1e-87c1-9845999f4cee",
   "metadata": {},
   "outputs": [],
   "source": [
    "plot(forecast_fit)"
   ]
  },
  {
   "cell_type": "code",
   "execution_count": null,
   "id": "fc558d3b-b56b-48f3-9dda-ff816328e28a",
   "metadata": {},
   "outputs": [],
   "source": [
    "ggplot2::autoplot(forecast_fit)"
   ]
  },
  {
   "cell_type": "code",
   "execution_count": null,
   "id": "a1b482bc-1a0b-4016-aff3-84c23d0e6ffd",
   "metadata": {},
   "outputs": [],
   "source": [
    "sarima_fit <- astsa::sarima.for(z,25,1,0,0)"
   ]
  },
  {
   "cell_type": "code",
   "execution_count": null,
   "id": "b187e87f-9000-40a7-a76a-aaff56729b86",
   "metadata": {},
   "outputs": [],
   "source": [
    "sarima_fit$pred\n",
    "sarima_fit$se"
   ]
  },
  {
   "cell_type": "code",
   "execution_count": null,
   "id": "0b8685eb-e9fd-4f29-9607-d8d376fd91f2",
   "metadata": {},
   "outputs": [],
   "source": [
    "head(sarima_fit$pred + qnorm(0.975)*sarima_fit$se) ##95% 신뢰구간 상한\n",
    "head(sarima_fit$pred - qnorm(0.975)*sarima_fit$se) ##95% 신뢰구간 하한"
   ]
  },
  {
   "cell_type": "markdown",
   "id": "dd0aa68e-879b-4ebf-a77c-90a7989ccbb4",
   "metadata": {},
   "source": [
    "# EX 9.5 IMA(1,1) = ARIMA(0,1,1)"
   ]
  },
  {
   "cell_type": "code",
   "execution_count": null,
   "id": "881d6344-bada-4538-87cb-d6e07d5ac87f",
   "metadata": {},
   "outputs": [],
   "source": [
    "z <- scan(\"DAT/eg9_5.txt\")\n",
    "forecast::ggtsdisplay(z, smooth=T)"
   ]
  },
  {
   "cell_type": "code",
   "execution_count": null,
   "id": "50cd1051-3364-4794-8d54-a645c78d5e88",
   "metadata": {},
   "outputs": [],
   "source": [
    "##단위근 검정 : H0 : 단위근이 있다.\n",
    "fUnitRoots::adfTest(z, lags = 0, type = \"c\")\n",
    "fUnitRoots::adfTest(z, lags = 1, type = \"c\")\n",
    "fUnitRoots::adfTest(z, lags = 2, type = \"c\")"
   ]
  },
  {
   "cell_type": "code",
   "execution_count": null,
   "id": "8dae258f-2fcc-4ba1-8858-89bcda010b3e",
   "metadata": {},
   "outputs": [],
   "source": [
    "lag_z <- diff(z)\n",
    "forecast::tsdisplay(lag_z)"
   ]
  },
  {
   "cell_type": "code",
   "execution_count": null,
   "id": "03ba4742-26ff-4f0c-ba45-6ceac2ff31e9",
   "metadata": {},
   "outputs": [],
   "source": [
    "## mean : H0 : mu = 0\n",
    "t.test(lag_z)"
   ]
  },
  {
   "cell_type": "code",
   "execution_count": null,
   "id": "ea794281-0251-475b-95ad-820b85beac50",
   "metadata": {},
   "outputs": [],
   "source": [
    "fit1 <- arima(lag_z, order=c(0,0,1), include.mean = F)\n",
    "fit1"
   ]
  },
  {
   "cell_type": "code",
   "execution_count": null,
   "id": "66bdc452-43f5-458b-b134-7f379a5f6766",
   "metadata": {},
   "outputs": [],
   "source": [
    "fit <- arima(z, order=c(0,1,1))\n",
    "fit"
   ]
  },
  {
   "cell_type": "markdown",
   "id": "b10cf745-e19a-4e62-9826-acbceb237bc6",
   "metadata": {},
   "source": [
    "$Z_t = ε_t + 0.7605ε_t, \\hat θ = −0.7605$"
   ]
  },
  {
   "cell_type": "code",
   "execution_count": null,
   "id": "5d2d6b4e-b513-4040-8ae4-ef1cc03b9718",
   "metadata": {},
   "outputs": [],
   "source": [
    "forecast::checkresiduals(fit)"
   ]
  },
  {
   "cell_type": "code",
   "execution_count": null,
   "id": "c9996822-b41e-49f0-9d43-c4f60291e192",
   "metadata": {},
   "outputs": [],
   "source": [
    "resid = resid(fit)\n",
    "forecast::tsdisplay(resid)"
   ]
  },
  {
   "cell_type": "code",
   "execution_count": null,
   "id": "bc7032ef-ebc0-43d4-89f2-202dfd89ebd7",
   "metadata": {},
   "outputs": [],
   "source": [
    "# 잔차의 포트맨토 검정 ## H0 : rho1=...=rho_k=0\n",
    "#portes::LjungBox(fit, lags=c(6,12,18,24))"
   ]
  },
  {
   "cell_type": "code",
   "execution_count": null,
   "id": "dfc18573-416c-4c9d-83e8-199961326632",
   "metadata": {},
   "outputs": [],
   "source": [
    "## 정규성검정\n",
    "tseries::jarque.bera.test(resid) ##JB test H0: normal"
   ]
  },
  {
   "cell_type": "code",
   "execution_count": null,
   "id": "90bd1ac5-4de1-47cb-bd9d-b4ea7f192975",
   "metadata": {},
   "outputs": [],
   "source": [
    "par(mfrow=c(1,2))\n",
    "hist(resid)\n",
    "\n",
    "qqnorm(resid, pch=16)\n",
    "qqline(resid)"
   ]
  },
  {
   "cell_type": "code",
   "execution_count": null,
   "id": "04d895e9-7118-4107-82cf-eea605298c58",
   "metadata": {},
   "outputs": [],
   "source": [
    "## 잔차 검정\n",
    "astsa::sarima(z, p=0, d=1, q=1)"
   ]
  },
  {
   "cell_type": "code",
   "execution_count": null,
   "id": "f78f724a-994a-4668-9f7b-0086825b607e",
   "metadata": {},
   "outputs": [],
   "source": [
    "fore_fit <- forecast::forecast(fit, 25)\n",
    "fore_fit"
   ]
  },
  {
   "cell_type": "code",
   "execution_count": null,
   "id": "7f8c6149-840d-49e0-89e6-f17e9bc2a6c2",
   "metadata": {},
   "outputs": [],
   "source": [
    "plot(fore_fit)"
   ]
  },
  {
   "cell_type": "code",
   "execution_count": null,
   "id": "67d0b997-9fd3-4f8a-bcba-cc45c387ae6e",
   "metadata": {},
   "outputs": [],
   "source": [
    "astsa::sarima.for(z, 25, 0,1,1)"
   ]
  },
  {
   "cell_type": "code",
   "execution_count": null,
   "id": "3a6a2660-9e9f-4199-bee5-e16aa40c958c",
   "metadata": {},
   "outputs": [],
   "source": [
    "astsa::sarima.for(lag_z, 25, 0,0,1)"
   ]
  },
  {
   "cell_type": "code",
   "execution_count": null,
   "id": "0b887c9c-89b3-4c5d-8cfd-7b381a31da2c",
   "metadata": {},
   "outputs": [],
   "source": [
    "fore_diff_z <- astsa::sarima.for(lag_z, 25, 0,0,1, plot=F)$pred\n",
    "fore_diff_z"
   ]
  },
  {
   "cell_type": "code",
   "execution_count": null,
   "id": "f3144fc7-4561-4e53-8f96-500204ce1dc2",
   "metadata": {},
   "outputs": [],
   "source": [
    "fore_z <- astsa::sarima.for(z, 25, 0,1,1, plot=F)$pred\n",
    "fore_z"
   ]
  },
  {
   "cell_type": "markdown",
   "id": "7055ae4a-f7a1-49be-a864-5bc4ef580160",
   "metadata": {},
   "source": [
    "$\\widehat{▽Z_t} = \\hat Z_t − \\hat Z_{t−1}$\n",
    "\n",
    "$\\hat Z_t = \\widehat{▽Z_t} + \\hat Z_{t−1}$\n",
    "\n",
    "$\\hat Z_{300}(1) = \\widehat{▽Z_{300}(1)} + Z_300$"
   ]
  },
  {
   "cell_type": "code",
   "execution_count": null,
   "id": "57421d2d-e345-442b-aac6-8badc71785de",
   "metadata": {},
   "outputs": [],
   "source": [
    "z_300_1 <- as.numeric(fore_diff_z[1]) + z[300]\n",
    "z_300_1"
   ]
  },
  {
   "cell_type": "markdown",
   "id": "abfed19a-dc6c-4e47-857a-f68a118daffa",
   "metadata": {},
   "source": [
    "$\\hat Z_{300}(2) = \\widehat{▽Z_{300}(2)} + \\hat Z_{300}(1)$"
   ]
  },
  {
   "cell_type": "code",
   "execution_count": null,
   "id": "466afee3-4020-413d-9ee3-d65ae1c017c2",
   "metadata": {},
   "outputs": [],
   "source": [
    "z_300_2 <- fore_diff_z[2] + z_300_1\n",
    "z_300_2"
   ]
  },
  {
   "cell_type": "code",
   "execution_count": null,
   "id": "77ee7dc5-f8b1-4f20-92f9-bfd40fcaac4d",
   "metadata": {},
   "outputs": [],
   "source": []
  },
  {
   "cell_type": "code",
   "execution_count": null,
   "id": "1db621d0-9195-4ff1-8084-04f3c8148903",
   "metadata": {},
   "outputs": [],
   "source": []
  },
  {
   "cell_type": "code",
   "execution_count": null,
   "id": "9c495324-2f5d-4b4b-be20-9e9ccb18a7af",
   "metadata": {},
   "outputs": [],
   "source": []
  },
  {
   "cell_type": "code",
   "execution_count": null,
   "id": "65b1916d-9a1c-4846-b219-96705a0e77de",
   "metadata": {},
   "outputs": [],
   "source": []
  },
  {
   "cell_type": "code",
   "execution_count": null,
   "id": "95ecaff5-1d37-4b28-b15b-680f7708d015",
   "metadata": {},
   "outputs": [],
   "source": []
  },
  {
   "cell_type": "code",
   "execution_count": null,
   "id": "225eac24-60c4-411a-be3b-affa1ac0ea74",
   "metadata": {},
   "outputs": [],
   "source": []
  },
  {
   "cell_type": "code",
   "execution_count": null,
   "id": "852cb663-2b41-4d2f-b794-23bc0deb89f4",
   "metadata": {},
   "outputs": [],
   "source": []
  },
  {
   "cell_type": "code",
   "execution_count": null,
   "id": "828e2dd2-efb7-44e6-a79d-b9be6407b0fe",
   "metadata": {},
   "outputs": [],
   "source": []
  },
  {
   "cell_type": "code",
   "execution_count": null,
   "id": "fbdf545a-634e-4135-b590-76c9b35520f3",
   "metadata": {},
   "outputs": [],
   "source": []
  },
  {
   "cell_type": "code",
   "execution_count": null,
   "id": "9f4f5f2d-7c87-479f-b1fa-f9ca1c13a2f8",
   "metadata": {},
   "outputs": [],
   "source": []
  },
  {
   "cell_type": "code",
   "execution_count": null,
   "id": "2562be54-ca0c-4438-b656-cf334f8e0def",
   "metadata": {},
   "outputs": [],
   "source": []
  }
 ],
 "metadata": {
  "kernelspec": {
   "display_name": "R",
   "language": "R",
   "name": "ir"
  },
  "language_info": {
   "codemirror_mode": "r",
   "file_extension": ".r",
   "mimetype": "text/x-r-source",
   "name": "R",
   "pygments_lexer": "r",
   "version": "4.2.2"
  }
 },
 "nbformat": 4,
 "nbformat_minor": 5
}
