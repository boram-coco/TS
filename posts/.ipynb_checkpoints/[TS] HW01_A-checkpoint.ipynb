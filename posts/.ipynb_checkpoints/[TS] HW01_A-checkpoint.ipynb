{
 "cells": [
  {
   "cell_type": "raw",
   "id": "6aa0a4ab-5b52-4326-ab09-924a8bd7fb72",
   "metadata": {},
   "source": [
    "---\n",
    "title: \"[TS] HW01_Answer\"\n",
    "author: \"김보람\"\n",
    "date: \"10/20/2023\"\n",
    "categories:\n",
    "  - Time Series\n",
    "---"
   ]
  },
  {
   "cell_type": "markdown",
   "id": "d4faae84-6269-4a82-84e2-5c79e4d3e428",
   "metadata": {},
   "source": [
    "> 해당 자료는 전북대학교 이영미 교수님 2023고급시계열분석 자료임"
   ]
  },
  {
   "cell_type": "code",
   "execution_count": 6,
   "id": "3e3f1dee-7a79-4ad7-8950-82a4a13e48f7",
   "metadata": {},
   "outputs": [
    {
     "name": "stderr",
     "output_type": "stream",
     "text": [
      "\n",
      "Attaching package: ‘lubridate’\n",
      "\n",
      "\n",
      "The following objects are masked from ‘package:base’:\n",
      "\n",
      "    date, intersect, setdiff, union\n",
      "\n",
      "\n",
      "Loading required package: carData\n",
      "\n",
      "Loading required package: zoo\n",
      "\n",
      "\n",
      "Attaching package: ‘zoo’\n",
      "\n",
      "\n",
      "The following objects are masked from ‘package:base’:\n",
      "\n",
      "    as.Date, as.Date.numeric\n",
      "\n",
      "\n"
     ]
    }
   ],
   "source": [
    "library(lubridate)\n",
    "library(ggplot2)\n",
    "library(car)\n",
    "#library(forecast)\n",
    "library(lmtest)"
   ]
  },
  {
   "cell_type": "markdown",
   "id": "baf14d5a-5400-41a2-b4cb-3b50430999ae",
   "metadata": {},
   "source": [
    "# 1"
   ]
  },
  {
   "cell_type": "code",
   "execution_count": 40,
   "id": "e1520e4e-1fe2-4343-92e0-bb5ad2f76421",
   "metadata": {},
   "outputs": [],
   "source": [
    "z <- c(52,46,46,52,50,50,48,45,41,53)\n",
    "n <- length(z)"
   ]
  },
  {
   "cell_type": "markdown",
   "id": "d6f3a5af-a193-471f-9002-defe40081999",
   "metadata": {},
   "source": [
    "## (1)"
   ]
  },
  {
   "cell_type": "code",
   "execution_count": 41,
   "id": "fb3501f3-7e43-4fdf-9782-195ef80556b5",
   "metadata": {},
   "outputs": [
    {
     "data": {
      "text/html": [
       "483"
      ],
      "text/latex": [
       "483"
      ],
      "text/markdown": [
       "483"
      ],
      "text/plain": [
       "[1] 483"
      ]
     },
     "metadata": {},
     "output_type": "display_data"
    },
    {
     "data": {
      "text/html": [
       "48.3"
      ],
      "text/latex": [
       "48.3"
      ],
      "text/markdown": [
       "48.3"
      ],
      "text/plain": [
       "[1] 48.3"
      ]
     },
     "metadata": {},
     "output_type": "display_data"
    }
   ],
   "source": [
    "sum(z)\n",
    "(bar_z = mean(z))"
   ]
  },
  {
   "cell_type": "markdown",
   "id": "adf12ada-25f2-42d6-8ab5-ec4184c6902a",
   "metadata": {},
   "source": [
    "## (3)"
   ]
  },
  {
   "cell_type": "code",
   "execution_count": 42,
   "id": "a4c36675-bf70-47d7-9cd2-5f91883d9140",
   "metadata": {},
   "outputs": [
    {
     "data": {
      "text/html": [
       "130.1"
      ],
      "text/latex": [
       "130.1"
      ],
      "text/markdown": [
       "130.1"
      ],
      "text/plain": [
       "[1] 130.1"
      ]
     },
     "metadata": {},
     "output_type": "display_data"
    },
    {
     "data": {
      "text/html": [
       "14.4555555555556"
      ],
      "text/latex": [
       "14.4555555555556"
      ],
      "text/markdown": [
       "14.4555555555556"
      ],
      "text/plain": [
       "[1] 14.45556"
      ]
     },
     "metadata": {},
     "output_type": "display_data"
    }
   ],
   "source": [
    "sum((z- mean(z))^2)\n",
    "s2 = sum((z- mean(z))^2)/(n-1)\n",
    "s2"
   ]
  },
  {
   "cell_type": "code",
   "execution_count": 43,
   "id": "47a7503f-bb67-4fda-ab2f-25d387eaa452",
   "metadata": {},
   "outputs": [
    {
     "data": {
      "text/html": [
       "57.3206225347423"
      ],
      "text/latex": [
       "57.3206225347423"
      ],
      "text/markdown": [
       "57.3206225347423"
      ],
      "text/plain": [
       "[1] 57.32062"
      ]
     },
     "metadata": {},
     "output_type": "display_data"
    },
    {
     "data": {
      "text/html": [
       "39.2793774652577"
      ],
      "text/latex": [
       "39.2793774652577"
      ],
      "text/markdown": [
       "39.2793774652577"
      ],
      "text/plain": [
       "[1] 39.27938"
      ]
     },
     "metadata": {},
     "output_type": "display_data"
    }
   ],
   "source": [
    "bar_z + qt(0.975,(n-1)) * sqrt((1+1/n)*s2)\n",
    "bar_z - qt(0.975,(n-1)) * sqrt((1+1/n)*s2)"
   ]
  },
  {
   "cell_type": "markdown",
   "id": "2256f511-ed58-4b07-ba21-b64f7bb033bb",
   "metadata": {},
   "source": [
    "`-` lm함수 비교"
   ]
  },
  {
   "cell_type": "code",
   "execution_count": 44,
   "id": "2d016355-7386-43ba-98f1-3eb6cc84e2df",
   "metadata": {},
   "outputs": [
    {
     "data": {
      "text/plain": [
       "\n",
       "Call:\n",
       "lm(formula = z ~ 1)\n",
       "\n",
       "Residuals:\n",
       "   Min     1Q Median     3Q    Max \n",
       "  -7.3   -2.3    0.7    3.2    4.7 \n",
       "\n",
       "Coefficients:\n",
       "            Estimate Std. Error t value Pr(>|t|)    \n",
       "(Intercept)   48.300      1.202   40.17 1.83e-11 ***\n",
       "---\n",
       "Signif. codes:  0 ‘***’ 0.001 ‘**’ 0.01 ‘*’ 0.05 ‘.’ 0.1 ‘ ’ 1\n",
       "\n",
       "Residual standard error: 3.802 on 9 degrees of freedom\n"
      ]
     },
     "metadata": {},
     "output_type": "display_data"
    }
   ],
   "source": [
    "m <- lm(z~1)\n",
    "summary(m)\n"
   ]
  },
  {
   "cell_type": "code",
   "execution_count": 45,
   "id": "ca1c608b-1933-4cf5-a3ea-7f4ff27019d7",
   "metadata": {},
   "outputs": [
    {
     "data": {
      "text/html": [
       "<table class=\"dataframe\">\n",
       "<caption>A matrix: 5 × 3 of type dbl</caption>\n",
       "<thead>\n",
       "\t<tr><th></th><th scope=col>fit</th><th scope=col>lwr</th><th scope=col>upr</th></tr>\n",
       "</thead>\n",
       "<tbody>\n",
       "\t<tr><th scope=row>1</th><td>48.3</td><td>39.27938</td><td>57.32062</td></tr>\n",
       "\t<tr><th scope=row>2</th><td>48.3</td><td>39.27938</td><td>57.32062</td></tr>\n",
       "\t<tr><th scope=row>3</th><td>48.3</td><td>39.27938</td><td>57.32062</td></tr>\n",
       "\t<tr><th scope=row>4</th><td>48.3</td><td>39.27938</td><td>57.32062</td></tr>\n",
       "\t<tr><th scope=row>5</th><td>48.3</td><td>39.27938</td><td>57.32062</td></tr>\n",
       "</tbody>\n",
       "</table>\n"
      ],
      "text/latex": [
       "A matrix: 5 × 3 of type dbl\n",
       "\\begin{tabular}{r|lll}\n",
       "  & fit & lwr & upr\\\\\n",
       "\\hline\n",
       "\t1 & 48.3 & 39.27938 & 57.32062\\\\\n",
       "\t2 & 48.3 & 39.27938 & 57.32062\\\\\n",
       "\t3 & 48.3 & 39.27938 & 57.32062\\\\\n",
       "\t4 & 48.3 & 39.27938 & 57.32062\\\\\n",
       "\t5 & 48.3 & 39.27938 & 57.32062\\\\\n",
       "\\end{tabular}\n"
      ],
      "text/markdown": [
       "\n",
       "A matrix: 5 × 3 of type dbl\n",
       "\n",
       "| <!--/--> | fit | lwr | upr |\n",
       "|---|---|---|---|\n",
       "| 1 | 48.3 | 39.27938 | 57.32062 |\n",
       "| 2 | 48.3 | 39.27938 | 57.32062 |\n",
       "| 3 | 48.3 | 39.27938 | 57.32062 |\n",
       "| 4 | 48.3 | 39.27938 | 57.32062 |\n",
       "| 5 | 48.3 | 39.27938 | 57.32062 |\n",
       "\n"
      ],
      "text/plain": [
       "  fit  lwr      upr     \n",
       "1 48.3 39.27938 57.32062\n",
       "2 48.3 39.27938 57.32062\n",
       "3 48.3 39.27938 57.32062\n",
       "4 48.3 39.27938 57.32062\n",
       "5 48.3 39.27938 57.32062"
      ]
     },
     "metadata": {},
     "output_type": "display_data"
    }
   ],
   "source": [
    "predict(m, newdata=data.frame(t=11:15), interval=\"prediction\")"
   ]
  },
  {
   "cell_type": "markdown",
   "id": "48f0b5fd-3cbb-4a57-b3ce-7d0325563086",
   "metadata": {},
   "source": [
    "# 2"
   ]
  },
  {
   "cell_type": "markdown",
   "id": "1378cadc-eac3-428c-a6a4-bbd807b21ff5",
   "metadata": {},
   "source": [
    "## (3)"
   ]
  },
  {
   "cell_type": "code",
   "execution_count": 46,
   "id": "8cd91196-9096-4f8d-8323-ff46c6b0578d",
   "metadata": {},
   "outputs": [],
   "source": [
    "z <- c(303,298,303,314,303,314,310,324,317,327,323,324,331,330,332)\n",
    "n <- length(z)"
   ]
  },
  {
   "cell_type": "code",
   "execution_count": 47,
   "id": "73ae8020-24ee-4a48-b75e-4dc075d7be80",
   "metadata": {},
   "outputs": [],
   "source": [
    "t <- 1:n"
   ]
  },
  {
   "cell_type": "code",
   "execution_count": 48,
   "id": "a275afe6-e5be-44a6-b088-c7aa82099b03",
   "metadata": {},
   "outputs": [
    {
     "data": {
      "text/html": [
       "297.780952380952"
      ],
      "text/latex": [
       "297.780952380952"
      ],
      "text/markdown": [
       "297.780952380952"
      ],
      "text/plain": [
       "[1] 297.781"
      ]
     },
     "metadata": {},
     "output_type": "display_data"
    },
    {
     "data": {
      "text/html": [
       "2.3857142857143"
      ],
      "text/latex": [
       "2.3857142857143"
      ],
      "text/markdown": [
       "2.3857142857143"
      ],
      "text/plain": [
       "[1] 2.385714"
      ]
     },
     "metadata": {},
     "output_type": "display_data"
    }
   ],
   "source": [
    "hat_beta_0 = 2*(2*n+1)/n/(n-1) * sum(z) - 6/n/(n-1)*sum(t*z)\n",
    "hat_beta_0\n",
    "hat_beta_1 = 12/n/(n^2-1)*sum(t*z) - 6/n/(n-1)*sum(z)\n",
    "hat_beta_1"
   ]
  },
  {
   "cell_type": "markdown",
   "id": "6f4079fe-625e-43fd-9722-afb2826b21d4",
   "metadata": {},
   "source": [
    "## (4)"
   ]
  },
  {
   "cell_type": "markdown",
   "id": "0bc20e3e-b5f5-4cf3-bc33-bbcdd34acb63",
   "metadata": {},
   "source": [
    "$\\hat Z_n(l) = \\hat \\beta_0 + \\hat \\beta_1(n+l)$"
   ]
  },
  {
   "cell_type": "code",
   "execution_count": 49,
   "id": "61e012c2-08fb-48e7-8840-fa74c796711c",
   "metadata": {},
   "outputs": [
    {
     "data": {
      "text/html": [
       "<style>\n",
       ".list-inline {list-style: none; margin:0; padding: 0}\n",
       ".list-inline>li {display: inline-block}\n",
       ".list-inline>li:not(:last-child)::after {content: \"\\00b7\"; padding: 0 .5ex}\n",
       "</style>\n",
       "<ol class=list-inline><li>335.952380952381</li><li>338.338095238095</li><li>340.72380952381</li><li>343.109523809524</li><li>345.495238095238</li></ol>\n"
      ],
      "text/latex": [
       "\\begin{enumerate*}\n",
       "\\item 335.952380952381\n",
       "\\item 338.338095238095\n",
       "\\item 340.72380952381\n",
       "\\item 343.109523809524\n",
       "\\item 345.495238095238\n",
       "\\end{enumerate*}\n"
      ],
      "text/markdown": [
       "1. 335.952380952381\n",
       "2. 338.338095238095\n",
       "3. 340.72380952381\n",
       "4. 343.109523809524\n",
       "5. 345.495238095238\n",
       "\n",
       "\n"
      ],
      "text/plain": [
       "[1] 335.9524 338.3381 340.7238 343.1095 345.4952"
      ]
     },
     "metadata": {},
     "output_type": "display_data"
    }
   ],
   "source": [
    "hat_beta_0 + hat_beta_1 *(15+(1:5))"
   ]
  },
  {
   "cell_type": "markdown",
   "id": "d321cb13-aa6a-4107-9631-58d42015fd24",
   "metadata": {},
   "source": [
    "`-` lm비교"
   ]
  },
  {
   "cell_type": "code",
   "execution_count": 50,
   "id": "9a41db66-1163-4365-a81c-577e5dd1b1b0",
   "metadata": {},
   "outputs": [
    {
     "data": {
      "text/plain": [
       "\n",
       "Call:\n",
       "lm(formula = z ~ t)\n",
       "\n",
       "Residuals:\n",
       "   Min     1Q Median     3Q    Max \n",
       "-6.710 -2.331 -1.181  2.519  7.133 \n",
       "\n",
       "Coefficients:\n",
       "            Estimate Std. Error t value Pr(>|t|)    \n",
       "(Intercept)  297.781      2.364 125.964  < 2e-16 ***\n",
       "t              2.386      0.260   9.176 4.84e-07 ***\n",
       "---\n",
       "Signif. codes:  0 ‘***’ 0.001 ‘**’ 0.01 ‘*’ 0.05 ‘.’ 0.1 ‘ ’ 1\n",
       "\n",
       "Residual standard error: 4.351 on 13 degrees of freedom\n",
       "Multiple R-squared:  0.8662,\tAdjusted R-squared:  0.856 \n",
       "F-statistic: 84.19 on 1 and 13 DF,  p-value: 4.836e-07\n"
      ]
     },
     "metadata": {},
     "output_type": "display_data"
    }
   ],
   "source": [
    "m <- lm(z~t)\n",
    "summary(m)\n"
   ]
  },
  {
   "cell_type": "code",
   "execution_count": 51,
   "id": "27bae369-5ab6-4578-8444-8109ef70c4b7",
   "metadata": {},
   "outputs": [
    {
     "data": {
      "text/html": [
       "<table class=\"dataframe\">\n",
       "<caption>A matrix: 5 × 3 of type dbl</caption>\n",
       "<thead>\n",
       "\t<tr><th></th><th scope=col>fit</th><th scope=col>lwr</th><th scope=col>upr</th></tr>\n",
       "</thead>\n",
       "<tbody>\n",
       "\t<tr><th scope=row>1</th><td>335.9524</td><td>325.2553</td><td>346.6495</td></tr>\n",
       "\t<tr><th scope=row>2</th><td>338.3381</td><td>327.3932</td><td>349.2830</td></tr>\n",
       "\t<tr><th scope=row>3</th><td>340.7238</td><td>329.5084</td><td>351.9393</td></tr>\n",
       "\t<tr><th scope=row>4</th><td>343.1095</td><td>331.6025</td><td>354.6166</td></tr>\n",
       "\t<tr><th scope=row>5</th><td>345.4952</td><td>333.6771</td><td>357.3134</td></tr>\n",
       "</tbody>\n",
       "</table>\n"
      ],
      "text/latex": [
       "A matrix: 5 × 3 of type dbl\n",
       "\\begin{tabular}{r|lll}\n",
       "  & fit & lwr & upr\\\\\n",
       "\\hline\n",
       "\t1 & 335.9524 & 325.2553 & 346.6495\\\\\n",
       "\t2 & 338.3381 & 327.3932 & 349.2830\\\\\n",
       "\t3 & 340.7238 & 329.5084 & 351.9393\\\\\n",
       "\t4 & 343.1095 & 331.6025 & 354.6166\\\\\n",
       "\t5 & 345.4952 & 333.6771 & 357.3134\\\\\n",
       "\\end{tabular}\n"
      ],
      "text/markdown": [
       "\n",
       "A matrix: 5 × 3 of type dbl\n",
       "\n",
       "| <!--/--> | fit | lwr | upr |\n",
       "|---|---|---|---|\n",
       "| 1 | 335.9524 | 325.2553 | 346.6495 |\n",
       "| 2 | 338.3381 | 327.3932 | 349.2830 |\n",
       "| 3 | 340.7238 | 329.5084 | 351.9393 |\n",
       "| 4 | 343.1095 | 331.6025 | 354.6166 |\n",
       "| 5 | 345.4952 | 333.6771 | 357.3134 |\n",
       "\n"
      ],
      "text/plain": [
       "  fit      lwr      upr     \n",
       "1 335.9524 325.2553 346.6495\n",
       "2 338.3381 327.3932 349.2830\n",
       "3 340.7238 329.5084 351.9393\n",
       "4 343.1095 331.6025 354.6166\n",
       "5 345.4952 333.6771 357.3134"
      ]
     },
     "metadata": {},
     "output_type": "display_data"
    }
   ],
   "source": [
    "predict(m, newdata = data.frame(t=15+(1:5)), interval=\"prediction\")"
   ]
  },
  {
   "cell_type": "code",
   "execution_count": null,
   "id": "660301de-826e-4edb-8059-f7f1eefc4a4c",
   "metadata": {},
   "outputs": [],
   "source": []
  },
  {
   "cell_type": "code",
   "execution_count": null,
   "id": "38b87974-31a9-4c2c-ac8e-667878f2c116",
   "metadata": {},
   "outputs": [],
   "source": []
  },
  {
   "cell_type": "markdown",
   "id": "72936713-0e80-49a1-8175-7ce0de8821ef",
   "metadata": {},
   "source": [
    "# 3"
   ]
  },
  {
   "cell_type": "markdown",
   "id": "a4c25c6b-b036-46ed-b101-129113fd7029",
   "metadata": {},
   "source": [
    "> note: 모의시계열 표본평균과 표본분산을 안구했었네!;"
   ]
  },
  {
   "cell_type": "code",
   "execution_count": 1,
   "id": "b742790e-c75e-4f16-8f76-a1eff669a511",
   "metadata": {},
   "outputs": [],
   "source": [
    "t <- 1:100\n",
    "####### (1)\n",
    "Zt_1 <- 100 + rnorm(100,0,1)\n",
    "####### (2)\n",
    "Zt_2 <- 500 + rnorm(100,0,1)\n",
    "####### (3)\n",
    "Zt_3 <- 100 + rnorm(100,0,10)\n",
    "####### (4)\n",
    "Zt_4 <- 100 + t * rnorm(100,0,1)"
   ]
  },
  {
   "cell_type": "code",
   "execution_count": 2,
   "id": "1f07c081-0eab-45d0-98b9-1fcc5a94f96f",
   "metadata": {},
   "outputs": [
    {
     "data": {
      "text/html": [
       "<style>\n",
       ".dl-inline {width: auto; margin:0; padding: 0}\n",
       ".dl-inline>dt, .dl-inline>dd {float: none; width: auto; display: inline-block}\n",
       ".dl-inline>dt::after {content: \":\\0020\"; padding-right: .5ex}\n",
       ".dl-inline>dt:not(:first-of-type) {padding-left: .5ex}\n",
       "</style><dl class=dl-inline><dt>Zt_1</dt><dd>100.04</dd><dt>Zt_2</dt><dd>499.98</dd><dt>Zt_3</dt><dd>100.45</dd><dt>Zt_4</dt><dd>95.8</dd></dl>\n"
      ],
      "text/latex": [
       "\\begin{description*}\n",
       "\\item[Zt\\textbackslash{}\\_1] 100.04\n",
       "\\item[Zt\\textbackslash{}\\_2] 499.98\n",
       "\\item[Zt\\textbackslash{}\\_3] 100.45\n",
       "\\item[Zt\\textbackslash{}\\_4] 95.8\n",
       "\\end{description*}\n"
      ],
      "text/markdown": [
       "Zt_1\n",
       ":   100.04Zt_2\n",
       ":   499.98Zt_3\n",
       ":   100.45Zt_4\n",
       ":   95.8\n",
       "\n"
      ],
      "text/plain": [
       "  Zt_1   Zt_2   Zt_3   Zt_4 \n",
       "100.04 499.98 100.45  95.80 "
      ]
     },
     "metadata": {},
     "output_type": "display_data"
    },
    {
     "data": {
      "text/html": [
       "<style>\n",
       ".dl-inline {width: auto; margin:0; padding: 0}\n",
       ".dl-inline>dt, .dl-inline>dd {float: none; width: auto; display: inline-block}\n",
       ".dl-inline>dt::after {content: \":\\0020\"; padding-right: .5ex}\n",
       ".dl-inline>dt:not(:first-of-type) {padding-left: .5ex}\n",
       "</style><dl class=dl-inline><dt>Zt_1</dt><dd>1.05</dd><dt>Zt_2</dt><dd>0.84</dd><dt>Zt_3</dt><dd>89.68</dd><dt>Zt_4</dt><dd>2449.71</dd></dl>\n"
      ],
      "text/latex": [
       "\\begin{description*}\n",
       "\\item[Zt\\textbackslash{}\\_1] 1.05\n",
       "\\item[Zt\\textbackslash{}\\_2] 0.84\n",
       "\\item[Zt\\textbackslash{}\\_3] 89.68\n",
       "\\item[Zt\\textbackslash{}\\_4] 2449.71\n",
       "\\end{description*}\n"
      ],
      "text/markdown": [
       "Zt_1\n",
       ":   1.05Zt_2\n",
       ":   0.84Zt_3\n",
       ":   89.68Zt_4\n",
       ":   2449.71\n",
       "\n"
      ],
      "text/plain": [
       "   Zt_1    Zt_2    Zt_3    Zt_4 \n",
       "   1.05    0.84   89.68 2449.71 "
      ]
     },
     "metadata": {},
     "output_type": "display_data"
    }
   ],
   "source": [
    "dt <- data.frame(\n",
    " Zt_1 = Zt_1,\n",
    " Zt_2 = Zt_2,\n",
    " Zt_3 = Zt_3,\n",
    " Zt_4 = Zt_4)\n",
    "round(colMeans(dt),2)\n",
    "round(apply(dt,2,var),2)\n"
   ]
  },
  {
   "cell_type": "code",
   "execution_count": 55,
   "id": "7e372d88-9922-4a18-a1e0-a003eee85c84",
   "metadata": {},
   "outputs": [
    {
     "ename": "ERROR",
     "evalue": "Error in parse(text = x, srcfile = src): <text>:6:0: unexpected end of input\n4: legend(c(0,450), legend = c(expression(Z[t1]), expression(Z[t2]), expression(Z[t3]),expression(Z[t4]),\n5:          col= 1:4, bty='n', lty=1, lwd=2)\n  ^\n",
     "output_type": "error",
     "traceback": [
      "Error in parse(text = x, srcfile = src): <text>:6:0: unexpected end of input\n4: legend(c(0,450), legend = c(expression(Z[t1]), expression(Z[t2]), expression(Z[t3]),expression(Z[t4]),\n5:          col= 1:4, bty='n', lty=1, lwd=2)\n  ^\nTraceback:\n"
     ]
    }
   ],
   "source": [
    "ts.plot(ts(Zt_1), ts(Zt_2), ts(Zt_3), ts(Zt_4),\n",
    " lwd=2,\n",
    " col= 1:4)\n",
    "legend(c(0,450), legend = c(expression(Z[t1]), expression(Z[t2]), expression(Z[t3]),expression(Z[t4]),\n",
    "         col= 1:4, bty='n', lty=1, lwd=2)"
   ]
  },
  {
   "cell_type": "markdown",
   "id": "08a03028-90b6-46d4-9665-69e3fa731c1c",
   "metadata": {},
   "source": [
    "## 4"
   ]
  },
  {
   "cell_type": "code",
   "execution_count": 56,
   "id": "3b5ec9f4-f26a-409c-9834-c8f517767276",
   "metadata": {},
   "outputs": [
    {
     "name": "stderr",
     "output_type": "stream",
     "text": [
      "Warning message in 100 + t + rnorm(100, 0, 1):\n",
      "“longer object length is not a multiple of shorter object length”\n",
      "Warning message in 100 + 0.3 * t + sin(2 * pi * t/12) + cos(2 * pi * t/12) + rnorm(100, :\n",
      "“longer object length is not a multiple of shorter object length”\n"
     ]
    }
   ],
   "source": [
    "###### (1)\n",
    "Zt_1 <- 100 + rnorm(100,0,1)\n",
    "####### (2)\n",
    "Zt_2 <- 100 + t + rnorm(100,0,1)\n",
    "####### (3)\n",
    "Zt_3 <- 100 + 0.3*t + sin(2*pi*t/12) + cos(2*pi*t/12) + rnorm(100,0,1)\n"
   ]
  },
  {
   "cell_type": "code",
   "execution_count": null,
   "id": "0806143e-9e3c-478a-a421-73a26f04fb63",
   "metadata": {},
   "outputs": [],
   "source": [
    "ts.plot(ts(Zt_1), ts(Zt_2), ts(Zt_3),col= 1:3, lwd=2)\n",
    "legend(\"topleft\", legend = c(expression(Z[t1]), expression(Z[t2]), expression(Z[\n",
    " col= 1:3, lty=1, lwd=2)"
   ]
  },
  {
   "cell_type": "markdown",
   "id": "23a88b29-7b2d-4282-adb5-d0d2b003aa16",
   "metadata": {},
   "source": [
    "- Zt_1 : 불규칙성분\n",
    "\n",
    "- Zt_2 : 추세성분 + 불규칙 성분\n",
    "\n",
    "- Zt_3 : 추세성분 + 계절성분(주기12) + 불규칙 성분: 계절성분 값이 오차에 비해 너무 작아 확인하기 쉽지 않다."
   ]
  },
  {
   "cell_type": "code",
   "execution_count": null,
   "id": "26a87822-67ec-4200-9635-32a4f2245fdd",
   "metadata": {},
   "outputs": [],
   "source": [
    "Zt_3 <- 100 + 0.3*t + 3*sin(2*pi*t/12) + 20*cos(2*pi*t/12) + rnorm(100,0,1)\n",
    "ts.plot(ts(Zt_1), ts(Zt_2), ts(Zt_3),col= 1:3)\n",
    "legend(\"topleft\", legend = c(expression(Z[t1]), expression(Z[t2]), expression(Z[\n",
    " col= 1:3, lty=1)"
   ]
  },
  {
   "cell_type": "markdown",
   "id": "cdcc5cf5-bafd-4ae9-a1cc-9e5cfac8f4c8",
   "metadata": {},
   "source": [
    "# 5"
   ]
  },
  {
   "cell_type": "code",
   "execution_count": 57,
   "id": "96094447-627a-4dfe-b678-cc1c7271ae12",
   "metadata": {},
   "outputs": [
    {
     "data": {
      "image/png": "[encoded data removed]",
      "text/plain": [
       "plot without title"
      ]
     },
     "metadata": {
      "image/png": {
       "height": 420,
       "width": 420
      }
     },
     "output_type": "display_data"
    }
   ],
   "source": [
    "z <- scan(\"book.txt\")\n",
    "plot.ts(z)"
   ]
  },
  {
   "cell_type": "markdown",
   "id": "d2d99f4e-2d4e-4e7e-a53d-fc1142b767b3",
   "metadata": {},
   "source": [
    "## (3)"
   ]
  },
  {
   "cell_type": "markdown",
   "id": "5facf01e-4674-44ae-bc6d-3562cfadf76c",
   "metadata": {},
   "source": [
    "$Z_t = \\beta_0 + \\beta_1 t + \\epsilon_t$"
   ]
  },
  {
   "cell_type": "code",
   "execution_count": 59,
   "id": "cfd8daa3-7678-47f5-9386-80ec4104f129",
   "metadata": {},
   "outputs": [
    {
     "data": {
      "text/html": [
       "30"
      ],
      "text/latex": [
       "30"
      ],
      "text/markdown": [
       "30"
      ],
      "text/plain": [
       "[1] 30"
      ]
     },
     "metadata": {},
     "output_type": "display_data"
    }
   ],
   "source": [
    "length(z)"
   ]
  },
  {
   "cell_type": "code",
   "execution_count": 60,
   "id": "c869f681-9bfe-48a6-aefe-ee2b614cd00f",
   "metadata": {},
   "outputs": [
    {
     "data": {
      "text/plain": [
       "\n",
       "Call:\n",
       "lm(formula = z ~ t)\n",
       "\n",
       "Residuals:\n",
       "    Min      1Q  Median      3Q     Max \n",
       "-2.5563 -1.0063 -0.2081  1.0385  2.0644 \n",
       "\n",
       "Coefficients:\n",
       "            Estimate Std. Error t value Pr(>|t|)    \n",
       "(Intercept)  8.19080    0.46960   17.44   <2e-16 ***\n",
       "t            3.07586    0.02645  116.28   <2e-16 ***\n",
       "---\n",
       "Signif. codes:  0 ‘***’ 0.001 ‘**’ 0.01 ‘*’ 0.05 ‘.’ 0.1 ‘ ’ 1\n",
       "\n",
       "Residual standard error: 1.254 on 28 degrees of freedom\n",
       "Multiple R-squared:  0.9979,\tAdjusted R-squared:  0.9979 \n",
       "F-statistic: 1.352e+04 on 1 and 28 DF,  p-value: < 2.2e-16\n"
      ]
     },
     "metadata": {},
     "output_type": "display_data"
    }
   ],
   "source": [
    "t <- 1:length(z)\n",
    "m <- lm(z~t)\n",
    "summary(m)"
   ]
  },
  {
   "cell_type": "markdown",
   "id": "28cc5faa-2b16-4209-bb2c-49d1a134f209",
   "metadata": {},
   "source": [
    "## (4)"
   ]
  },
  {
   "cell_type": "markdown",
   "id": "6c289b70-912a-4f74-82ed-1da4261d9d43",
   "metadata": {},
   "source": [
    "$\\hat Z_{n+l} = \\hat Z_n(l) = \\hat \\beta_0 + \\hat \\beta_1(n+l)$"
   ]
  },
  {
   "cell_type": "code",
   "execution_count": 61,
   "id": "52c89a83-b1a9-44f4-846f-f1026943f164",
   "metadata": {},
   "outputs": [
    {
     "data": {
      "text/html": [
       "<style>\n",
       ".dl-inline {width: auto; margin:0; padding: 0}\n",
       ".dl-inline>dt, .dl-inline>dd {float: none; width: auto; display: inline-block}\n",
       ".dl-inline>dt::after {content: \":\\0020\"; padding-right: .5ex}\n",
       ".dl-inline>dt:not(:first-of-type) {padding-left: .5ex}\n",
       "</style><dl class=dl-inline><dt>1</dt><dd>103.542528735632</dd><dt>2</dt><dd>106.618390804598</dd><dt>3</dt><dd>109.694252873563</dd><dt>4</dt><dd>112.770114942529</dd><dt>5</dt><dd>115.845977011494</dd><dt>6</dt><dd>118.92183908046</dd><dt>7</dt><dd>121.997701149425</dd><dt>8</dt><dd>125.073563218391</dd><dt>9</dt><dd>128.149425287356</dd><dt>10</dt><dd>131.225287356322</dd><dt>11</dt><dd>134.301149425287</dd><dt>12</dt><dd>137.377011494253</dd></dl>\n"
      ],
      "text/latex": [
       "\\begin{description*}\n",
       "\\item[1] 103.542528735632\n",
       "\\item[2] 106.618390804598\n",
       "\\item[3] 109.694252873563\n",
       "\\item[4] 112.770114942529\n",
       "\\item[5] 115.845977011494\n",
       "\\item[6] 118.92183908046\n",
       "\\item[7] 121.997701149425\n",
       "\\item[8] 125.073563218391\n",
       "\\item[9] 128.149425287356\n",
       "\\item[10] 131.225287356322\n",
       "\\item[11] 134.301149425287\n",
       "\\item[12] 137.377011494253\n",
       "\\end{description*}\n"
      ],
      "text/markdown": [
       "1\n",
       ":   103.5425287356322\n",
       ":   106.6183908045983\n",
       ":   109.6942528735634\n",
       ":   112.7701149425295\n",
       ":   115.8459770114946\n",
       ":   118.921839080467\n",
       ":   121.9977011494258\n",
       ":   125.0735632183919\n",
       ":   128.14942528735610\n",
       ":   131.22528735632211\n",
       ":   134.30114942528712\n",
       ":   137.377011494253\n",
       "\n"
      ],
      "text/plain": [
       "       1        2        3        4        5        6        7        8 \n",
       "103.5425 106.6184 109.6943 112.7701 115.8460 118.9218 121.9977 125.0736 \n",
       "       9       10       11       12 \n",
       "128.1494 131.2253 134.3011 137.3770 "
      ]
     },
     "metadata": {},
     "output_type": "display_data"
    }
   ],
   "source": [
    "new_dt <- data.frame(t=30+(1:12))\n",
    "predict(m, new_dt)\n"
   ]
  },
  {
   "cell_type": "code",
   "execution_count": 62,
   "id": "dd207fda-29ee-4f34-90ea-da192139964b",
   "metadata": {},
   "outputs": [
    {
     "data": {
      "text/html": [
       "<table class=\"dataframe\">\n",
       "<caption>A matrix: 12 × 3 of type dbl</caption>\n",
       "<thead>\n",
       "\t<tr><th></th><th scope=col>fit</th><th scope=col>lwr</th><th scope=col>upr</th></tr>\n",
       "</thead>\n",
       "<tbody>\n",
       "\t<tr><th scope=row>1</th><td>103.5425</td><td>100.7996</td><td>106.2855</td></tr>\n",
       "\t<tr><th scope=row>2</th><td>106.6184</td><td>103.8584</td><td>109.3784</td></tr>\n",
       "\t<tr><th scope=row>3</th><td>109.6943</td><td>106.9162</td><td>112.4723</td></tr>\n",
       "\t<tr><th scope=row>4</th><td>112.7701</td><td>109.9731</td><td>115.5671</td></tr>\n",
       "\t<tr><th scope=row>5</th><td>115.8460</td><td>113.0291</td><td>118.6629</td></tr>\n",
       "\t<tr><th scope=row>6</th><td>118.9218</td><td>116.0842</td><td>121.7595</td></tr>\n",
       "\t<tr><th scope=row>7</th><td>121.9977</td><td>119.1384</td><td>124.8570</td></tr>\n",
       "\t<tr><th scope=row>8</th><td>125.0736</td><td>122.1918</td><td>127.9554</td></tr>\n",
       "\t<tr><th scope=row>9</th><td>128.1494</td><td>125.2443</td><td>131.0546</td></tr>\n",
       "\t<tr><th scope=row>10</th><td>131.2253</td><td>128.2960</td><td>134.1546</td></tr>\n",
       "\t<tr><th scope=row>11</th><td>134.3011</td><td>131.3469</td><td>137.2554</td></tr>\n",
       "\t<tr><th scope=row>12</th><td>137.3770</td><td>134.3970</td><td>140.3570</td></tr>\n",
       "</tbody>\n",
       "</table>\n"
      ],
      "text/latex": [
       "A matrix: 12 × 3 of type dbl\n",
       "\\begin{tabular}{r|lll}\n",
       "  & fit & lwr & upr\\\\\n",
       "\\hline\n",
       "\t1 & 103.5425 & 100.7996 & 106.2855\\\\\n",
       "\t2 & 106.6184 & 103.8584 & 109.3784\\\\\n",
       "\t3 & 109.6943 & 106.9162 & 112.4723\\\\\n",
       "\t4 & 112.7701 & 109.9731 & 115.5671\\\\\n",
       "\t5 & 115.8460 & 113.0291 & 118.6629\\\\\n",
       "\t6 & 118.9218 & 116.0842 & 121.7595\\\\\n",
       "\t7 & 121.9977 & 119.1384 & 124.8570\\\\\n",
       "\t8 & 125.0736 & 122.1918 & 127.9554\\\\\n",
       "\t9 & 128.1494 & 125.2443 & 131.0546\\\\\n",
       "\t10 & 131.2253 & 128.2960 & 134.1546\\\\\n",
       "\t11 & 134.3011 & 131.3469 & 137.2554\\\\\n",
       "\t12 & 137.3770 & 134.3970 & 140.3570\\\\\n",
       "\\end{tabular}\n"
      ],
      "text/markdown": [
       "\n",
       "A matrix: 12 × 3 of type dbl\n",
       "\n",
       "| <!--/--> | fit | lwr | upr |\n",
       "|---|---|---|---|\n",
       "| 1 | 103.5425 | 100.7996 | 106.2855 |\n",
       "| 2 | 106.6184 | 103.8584 | 109.3784 |\n",
       "| 3 | 109.6943 | 106.9162 | 112.4723 |\n",
       "| 4 | 112.7701 | 109.9731 | 115.5671 |\n",
       "| 5 | 115.8460 | 113.0291 | 118.6629 |\n",
       "| 6 | 118.9218 | 116.0842 | 121.7595 |\n",
       "| 7 | 121.9977 | 119.1384 | 124.8570 |\n",
       "| 8 | 125.0736 | 122.1918 | 127.9554 |\n",
       "| 9 | 128.1494 | 125.2443 | 131.0546 |\n",
       "| 10 | 131.2253 | 128.2960 | 134.1546 |\n",
       "| 11 | 134.3011 | 131.3469 | 137.2554 |\n",
       "| 12 | 137.3770 | 134.3970 | 140.3570 |\n",
       "\n"
      ],
      "text/plain": [
       "   fit      lwr      upr     \n",
       "1  103.5425 100.7996 106.2855\n",
       "2  106.6184 103.8584 109.3784\n",
       "3  109.6943 106.9162 112.4723\n",
       "4  112.7701 109.9731 115.5671\n",
       "5  115.8460 113.0291 118.6629\n",
       "6  118.9218 116.0842 121.7595\n",
       "7  121.9977 119.1384 124.8570\n",
       "8  125.0736 122.1918 127.9554\n",
       "9  128.1494 125.2443 131.0546\n",
       "10 131.2253 128.2960 134.1546\n",
       "11 134.3011 131.3469 137.2554\n",
       "12 137.3770 134.3970 140.3570"
      ]
     },
     "metadata": {},
     "output_type": "display_data"
    }
   ],
   "source": [
    "pred <- predict(m, new_dt, interval=\"prediction\")\n",
    "pred"
   ]
  },
  {
   "cell_type": "code",
   "execution_count": 63,
   "id": "c2c2bc71-11d1-4534-8e4b-64f1e3ed601c",
   "metadata": {},
   "outputs": [
    {
     "data": {
      "image/png": "[encoded data removed]",
      "text/plain": [
       "plot without title"
      ]
     },
     "metadata": {
      "image/png": {
       "height": 420,
       "width": 420
      }
     },
     "output_type": "display_data"
    }
   ],
   "source": [
    "plot(t, z, type='n', ylim = c(0, 145), xlim=c(1,(30+12)))\n",
    "lines(t, z, lwd=2)\n",
    "lines(30+(1:12), pred[,1], col=2, lwd=3)\n",
    "lines(30+(1:12), pred[,2], col=3, lwd=3, lty=2)\n",
    "lines(30+(1:12), pred[,3], col=3, lwd=3, lty=2)"
   ]
  },
  {
   "cell_type": "code",
   "execution_count": null,
   "id": "a72debff-c3e9-4f5c-bd38-7ca41c2f36cd",
   "metadata": {},
   "outputs": [],
   "source": []
  },
  {
   "cell_type": "markdown",
   "id": "a8e29e70-5f14-4bfd-b800-fc267b5998a9",
   "metadata": {},
   "source": [
    "# 6"
   ]
  },
  {
   "cell_type": "code",
   "execution_count": 9,
   "id": "89fe42ee-ae14-4cfb-9fee-24af9bf509cc",
   "metadata": {},
   "outputs": [
    {
     "data": {
      "text/html": [
       "86"
      ],
      "text/latex": [
       "86"
      ],
      "text/markdown": [
       "86"
      ],
      "text/plain": [
       "[1] 86"
      ]
     },
     "metadata": {},
     "output_type": "display_data"
    }
   ],
   "source": [
    "z <- scan(\"export.txt\")\n",
    "n <- length(z)\n",
    "n"
   ]
  },
  {
   "cell_type": "code",
   "execution_count": 11,
   "id": "9213b239-7cf9-4144-b0ae-765135277cef",
   "metadata": {},
   "outputs": [
    {
     "data": {
      "text/html": [
       "<table class=\"dataframe\">\n",
       "<caption>A Time Series: 8 × 12</caption>\n",
       "<thead>\n",
       "\t<tr><th></th><th scope=col>Jan</th><th scope=col>Feb</th><th scope=col>Mar</th><th scope=col>Apr</th><th scope=col>May</th><th scope=col>Jun</th><th scope=col>Jul</th><th scope=col>Aug</th><th scope=col>Sep</th><th scope=col>Oct</th><th scope=col>Nov</th><th scope=col>Dec</th></tr>\n",
       "</thead>\n",
       "<tbody>\n",
       "\t<tr><th scope=row>1</th><td> 1</td><td> 2</td><td> 3</td><td> 4</td><td> 5</td><td> 6</td><td> 7</td><td> 8</td><td> 9</td><td>10</td><td>11</td><td>12</td></tr>\n",
       "\t<tr><th scope=row>2</th><td> 1</td><td> 2</td><td> 3</td><td> 4</td><td> 5</td><td> 6</td><td> 7</td><td> 8</td><td> 9</td><td>10</td><td>11</td><td>12</td></tr>\n",
       "\t<tr><th scope=row>3</th><td> 1</td><td> 2</td><td> 3</td><td> 4</td><td> 5</td><td> 6</td><td> 7</td><td> 8</td><td> 9</td><td>10</td><td>11</td><td>12</td></tr>\n",
       "\t<tr><th scope=row>4</th><td> 1</td><td> 2</td><td> 3</td><td> 4</td><td> 5</td><td> 6</td><td> 7</td><td> 8</td><td> 9</td><td>10</td><td>11</td><td>12</td></tr>\n",
       "\t<tr><th scope=row>5</th><td> 1</td><td> 2</td><td> 3</td><td> 4</td><td> 5</td><td> 6</td><td> 7</td><td> 8</td><td> 9</td><td>10</td><td>11</td><td>12</td></tr>\n",
       "\t<tr><th scope=row>6</th><td> 1</td><td> 2</td><td> 3</td><td> 4</td><td> 5</td><td> 6</td><td> 7</td><td> 8</td><td> 9</td><td>10</td><td>11</td><td>12</td></tr>\n",
       "\t<tr><th scope=row>7</th><td> 1</td><td> 2</td><td> 3</td><td> 4</td><td> 5</td><td> 6</td><td> 7</td><td> 8</td><td> 9</td><td>10</td><td>11</td><td>12</td></tr>\n",
       "\t<tr><th scope=row>8</th><td> 1</td><td> 2</td><td>  </td><td>  </td><td>  </td><td>  </td><td>  </td><td>  </td><td>  </td><td>  </td><td>  </td><td>  </td></tr>\n",
       "</tbody>\n",
       "</table>\n"
      ],
      "text/latex": [
       "A Time Series: 8 × 12\n",
       "\\begin{tabular}{r|llllllllllll}\n",
       "  & Jan & Feb & Mar & Apr & May & Jun & Jul & Aug & Sep & Oct & Nov & Dec\\\\\n",
       "\\hline\n",
       "\t1 &  1 &  2 &  3 &  4 &  5 &  6 &  7 &  8 &  9 & 10 & 11 & 12\\\\\n",
       "\t2 &  1 &  2 &  3 &  4 &  5 &  6 &  7 &  8 &  9 & 10 & 11 & 12\\\\\n",
       "\t3 &  1 &  2 &  3 &  4 &  5 &  6 &  7 &  8 &  9 & 10 & 11 & 12\\\\\n",
       "\t4 &  1 &  2 &  3 &  4 &  5 &  6 &  7 &  8 &  9 & 10 & 11 & 12\\\\\n",
       "\t5 &  1 &  2 &  3 &  4 &  5 &  6 &  7 &  8 &  9 & 10 & 11 & 12\\\\\n",
       "\t6 &  1 &  2 &  3 &  4 &  5 &  6 &  7 &  8 &  9 & 10 & 11 & 12\\\\\n",
       "\t7 &  1 &  2 &  3 &  4 &  5 &  6 &  7 &  8 &  9 & 10 & 11 & 12\\\\\n",
       "\t8 &  1 &  2 &    &    &    &    &    &    &    &    &    &   \\\\\n",
       "\\end{tabular}\n"
      ],
      "text/markdown": [
       "\n",
       "A Time Series: 8 × 12\n",
       "\n",
       "| <!--/--> | Jan | Feb | Mar | Apr | May | Jun | Jul | Aug | Sep | Oct | Nov | Dec |\n",
       "|---|---|---|---|---|---|---|---|---|---|---|---|---|\n",
       "| 1 |  1 |  2 |  3 |  4 |  5 |  6 |  7 |  8 |  9 | 10 | 11 | 12 |\n",
       "| 2 |  1 |  2 |  3 |  4 |  5 |  6 |  7 |  8 |  9 | 10 | 11 | 12 |\n",
       "| 3 |  1 |  2 |  3 |  4 |  5 |  6 |  7 |  8 |  9 | 10 | 11 | 12 |\n",
       "| 4 |  1 |  2 |  3 |  4 |  5 |  6 |  7 |  8 |  9 | 10 | 11 | 12 |\n",
       "| 5 |  1 |  2 |  3 |  4 |  5 |  6 |  7 |  8 |  9 | 10 | 11 | 12 |\n",
       "| 6 |  1 |  2 |  3 |  4 |  5 |  6 |  7 |  8 |  9 | 10 | 11 | 12 |\n",
       "| 7 |  1 |  2 |  3 |  4 |  5 |  6 |  7 |  8 |  9 | 10 | 11 | 12 |\n",
       "| 8 |  1 |  2 | <!----> | <!----> | <!----> | <!----> | <!----> | <!----> | <!----> | <!----> | <!----> | <!----> |\n",
       "\n"
      ],
      "text/plain": [
       "  Jan Feb Mar Apr May Jun Jul Aug Sep Oct Nov Dec\n",
       "1  1   2   3   4   5   6   7   8   9  10  11  12 \n",
       "2  1   2   3   4   5   6   7   8   9  10  11  12 \n",
       "3  1   2   3   4   5   6   7   8   9  10  11  12 \n",
       "4  1   2   3   4   5   6   7   8   9  10  11  12 \n",
       "5  1   2   3   4   5   6   7   8   9  10  11  12 \n",
       "6  1   2   3   4   5   6   7   8   9  10  11  12 \n",
       "7  1   2   3   4   5   6   7   8   9  10  11  12 \n",
       "8  1   2                                         "
      ]
     },
     "metadata": {},
     "output_type": "display_data"
    }
   ],
   "source": [
    "z_ts <- ts(z, frequency=12)\n",
    "cycle(z_ts)"
   ]
  },
  {
   "cell_type": "code",
   "execution_count": 12,
   "id": "a14d1592-a1fa-437c-8d6a-7de7617ee3c5",
   "metadata": {},
   "outputs": [
    {
     "data": {
      "image/png": "[encoded data removed]",
      "text/plain": [
       "plot without title"
      ]
     },
     "metadata": {
      "image/png": {
       "height": 420,
       "width": 420
      }
     },
     "output_type": "display_data"
    }
   ],
   "source": [
    "plot.ts(z)"
   ]
  },
  {
   "cell_type": "code",
   "execution_count": 14,
   "id": "98b9853a-e06c-4d5f-a92a-904a2d02ab16",
   "metadata": {},
   "outputs": [
    {
     "data": {
      "image/png": "[encoded data removed]",
      "text/plain": [
       "plot without title"
      ]
     },
     "metadata": {
      "image/png": {
       "height": 420,
       "width": 420
      }
     },
     "output_type": "display_data"
    }
   ],
   "source": [
    "plot.ts(log(z))"
   ]
  },
  {
   "cell_type": "markdown",
   "id": "3dd2cfd2-7517-43c4-84aa-68309c35a750",
   "metadata": {},
   "source": [
    " 추세성분, 계절성분(주기=12), 불규칙 성분으로 구성되어 있음"
   ]
  },
  {
   "cell_type": "markdown",
   "id": "0b65456b-ffa1-47ed-8680-aa3df38b8744",
   "metadata": {},
   "source": [
    "계절추세모형\n",
    "\n",
    "$Z_t = \\beta_0+ \\beta_1t + \\sum_{i=1}^12 \\delta_i \\times I_{t1} + \\epsilon_t$, 단 $\\delta_1=0$"
   ]
  },
  {
   "cell_type": "markdown",
   "id": "6e5cfec5-0bd0-486f-a394-aaaf3d1bff83",
   "metadata": {},
   "source": [
    "> note: 나는 로그변환 한 값을 넣었음"
   ]
  },
  {
   "cell_type": "code",
   "execution_count": 16,
   "id": "e64a3f62-38ca-4b92-bf14-e06d7b727251",
   "metadata": {},
   "outputs": [
    {
     "data": {
      "text/html": [
       "<table class=\"dataframe\">\n",
       "<caption>A Time Series: 8 × 12</caption>\n",
       "<thead>\n",
       "\t<tr><th></th><th scope=col>Jan</th><th scope=col>Feb</th><th scope=col>Mar</th><th scope=col>Apr</th><th scope=col>May</th><th scope=col>Jun</th><th scope=col>Jul</th><th scope=col>Aug</th><th scope=col>Sep</th><th scope=col>Oct</th><th scope=col>Nov</th><th scope=col>Dec</th></tr>\n",
       "</thead>\n",
       "<tbody>\n",
       "\t<tr><th scope=row>1</th><td> 1</td><td> 2</td><td> 3</td><td> 4</td><td> 5</td><td> 6</td><td> 7</td><td> 8</td><td> 9</td><td>10</td><td>11</td><td>12</td></tr>\n",
       "\t<tr><th scope=row>2</th><td> 1</td><td> 2</td><td> 3</td><td> 4</td><td> 5</td><td> 6</td><td> 7</td><td> 8</td><td> 9</td><td>10</td><td>11</td><td>12</td></tr>\n",
       "\t<tr><th scope=row>3</th><td> 1</td><td> 2</td><td> 3</td><td> 4</td><td> 5</td><td> 6</td><td> 7</td><td> 8</td><td> 9</td><td>10</td><td>11</td><td>12</td></tr>\n",
       "\t<tr><th scope=row>4</th><td> 1</td><td> 2</td><td> 3</td><td> 4</td><td> 5</td><td> 6</td><td> 7</td><td> 8</td><td> 9</td><td>10</td><td>11</td><td>12</td></tr>\n",
       "\t<tr><th scope=row>5</th><td> 1</td><td> 2</td><td> 3</td><td> 4</td><td> 5</td><td> 6</td><td> 7</td><td> 8</td><td> 9</td><td>10</td><td>11</td><td>12</td></tr>\n",
       "\t<tr><th scope=row>6</th><td> 1</td><td> 2</td><td> 3</td><td> 4</td><td> 5</td><td> 6</td><td> 7</td><td> 8</td><td> 9</td><td>10</td><td>11</td><td>12</td></tr>\n",
       "\t<tr><th scope=row>7</th><td> 1</td><td> 2</td><td> 3</td><td> 4</td><td> 5</td><td> 6</td><td> 7</td><td> 8</td><td> 9</td><td>10</td><td>11</td><td>12</td></tr>\n",
       "\t<tr><th scope=row>8</th><td> 1</td><td> 2</td><td>  </td><td>  </td><td>  </td><td>  </td><td>  </td><td>  </td><td>  </td><td>  </td><td>  </td><td>  </td></tr>\n",
       "</tbody>\n",
       "</table>\n"
      ],
      "text/latex": [
       "A Time Series: 8 × 12\n",
       "\\begin{tabular}{r|llllllllllll}\n",
       "  & Jan & Feb & Mar & Apr & May & Jun & Jul & Aug & Sep & Oct & Nov & Dec\\\\\n",
       "\\hline\n",
       "\t1 &  1 &  2 &  3 &  4 &  5 &  6 &  7 &  8 &  9 & 10 & 11 & 12\\\\\n",
       "\t2 &  1 &  2 &  3 &  4 &  5 &  6 &  7 &  8 &  9 & 10 & 11 & 12\\\\\n",
       "\t3 &  1 &  2 &  3 &  4 &  5 &  6 &  7 &  8 &  9 & 10 & 11 & 12\\\\\n",
       "\t4 &  1 &  2 &  3 &  4 &  5 &  6 &  7 &  8 &  9 & 10 & 11 & 12\\\\\n",
       "\t5 &  1 &  2 &  3 &  4 &  5 &  6 &  7 &  8 &  9 & 10 & 11 & 12\\\\\n",
       "\t6 &  1 &  2 &  3 &  4 &  5 &  6 &  7 &  8 &  9 & 10 & 11 & 12\\\\\n",
       "\t7 &  1 &  2 &  3 &  4 &  5 &  6 &  7 &  8 &  9 & 10 & 11 & 12\\\\\n",
       "\t8 &  1 &  2 &    &    &    &    &    &    &    &    &    &   \\\\\n",
       "\\end{tabular}\n"
      ],
      "text/markdown": [
       "\n",
       "A Time Series: 8 × 12\n",
       "\n",
       "| <!--/--> | Jan | Feb | Mar | Apr | May | Jun | Jul | Aug | Sep | Oct | Nov | Dec |\n",
       "|---|---|---|---|---|---|---|---|---|---|---|---|---|\n",
       "| 1 |  1 |  2 |  3 |  4 |  5 |  6 |  7 |  8 |  9 | 10 | 11 | 12 |\n",
       "| 2 |  1 |  2 |  3 |  4 |  5 |  6 |  7 |  8 |  9 | 10 | 11 | 12 |\n",
       "| 3 |  1 |  2 |  3 |  4 |  5 |  6 |  7 |  8 |  9 | 10 | 11 | 12 |\n",
       "| 4 |  1 |  2 |  3 |  4 |  5 |  6 |  7 |  8 |  9 | 10 | 11 | 12 |\n",
       "| 5 |  1 |  2 |  3 |  4 |  5 |  6 |  7 |  8 |  9 | 10 | 11 | 12 |\n",
       "| 6 |  1 |  2 |  3 |  4 |  5 |  6 |  7 |  8 |  9 | 10 | 11 | 12 |\n",
       "| 7 |  1 |  2 |  3 |  4 |  5 |  6 |  7 |  8 |  9 | 10 | 11 | 12 |\n",
       "| 8 |  1 |  2 | <!----> | <!----> | <!----> | <!----> | <!----> | <!----> | <!----> | <!----> | <!----> | <!----> |\n",
       "\n"
      ],
      "text/plain": [
       "  Jan Feb Mar Apr May Jun Jul Aug Sep Oct Nov Dec\n",
       "1  1   2   3   4   5   6   7   8   9  10  11  12 \n",
       "2  1   2   3   4   5   6   7   8   9  10  11  12 \n",
       "3  1   2   3   4   5   6   7   8   9  10  11  12 \n",
       "4  1   2   3   4   5   6   7   8   9  10  11  12 \n",
       "5  1   2   3   4   5   6   7   8   9  10  11  12 \n",
       "6  1   2   3   4   5   6   7   8   9  10  11  12 \n",
       "7  1   2   3   4   5   6   7   8   9  10  11  12 \n",
       "8  1   2                                         "
      ]
     },
     "metadata": {},
     "output_type": "display_data"
    }
   ],
   "source": [
    "z_ts <- ts(z, frequency=12)\n",
    "cycle(z_ts)"
   ]
  },
  {
   "cell_type": "code",
   "execution_count": 17,
   "id": "8f027d7a-d512-4d18-8a97-1dd5b21036d3",
   "metadata": {},
   "outputs": [],
   "source": [
    "seasonal_I <- as.factor(cycle(z_ts))\n",
    "t <- 1:n\n",
    "m2 <- lm(z~t+seasonal_I)\n"
   ]
  },
  {
   "cell_type": "code",
   "execution_count": 18,
   "id": "20cb059e-df20-469a-b10e-c1f7e1dfaa35",
   "metadata": {},
   "outputs": [
    {
     "data": {
      "text/plain": [
       "\n",
       "Call:\n",
       "lm(formula = z ~ t + seasonal_I)\n",
       "\n",
       "Residuals:\n",
       "     Min       1Q   Median       3Q      Max \n",
       "-10.8562  -2.2938   0.1567   2.6730   9.3951 \n",
       "\n",
       "Coefficients:\n",
       "             Estimate Std. Error t value Pr(>|t|)    \n",
       "(Intercept)  21.98000    1.73500  12.669  < 2e-16 ***\n",
       "t             0.43721    0.01893  23.097  < 2e-16 ***\n",
       "seasonal_I2   1.71779    2.16697   0.793 0.430512    \n",
       "seasonal_I3   9.21741    2.24422   4.107 0.000103 ***\n",
       "seasonal_I4   7.37163    2.24366   3.286 0.001566 ** \n",
       "seasonal_I5   9.30299    2.24326   4.147 8.98e-05 ***\n",
       "seasonal_I6  12.96578    2.24302   5.780 1.72e-07 ***\n",
       "seasonal_I7   9.16286    2.24294   4.085 0.000112 ***\n",
       "seasonal_I8   7.73422    2.24302   3.448 0.000941 ***\n",
       "seasonal_I9  11.07272    2.24326   4.936 4.88e-06 ***\n",
       "seasonal_I10 10.68409    2.24366   4.762 9.47e-06 ***\n",
       "seasonal_I11 12.37545    2.24422   5.514 5.03e-07 ***\n",
       "seasonal_I12 18.57967    2.24494   8.276 4.26e-12 ***\n",
       "---\n",
       "Signif. codes:  0 ‘***’ 0.001 ‘**’ 0.01 ‘*’ 0.05 ‘.’ 0.1 ‘ ’ 1\n",
       "\n",
       "Residual standard error: 4.334 on 73 degrees of freedom\n",
       "Multiple R-squared:  0.9011,\tAdjusted R-squared:  0.8848 \n",
       "F-statistic:  55.4 on 12 and 73 DF,  p-value: < 2.2e-16\n"
      ]
     },
     "metadata": {},
     "output_type": "display_data"
    }
   ],
   "source": [
    "summary(m2)"
   ]
  },
  {
   "cell_type": "markdown",
   "id": "b094bf40-9215-4aa8-8b3f-e3075bf1227e",
   "metadata": {},
   "source": [
    "- 적합된 모형: $\\hat Z_t = 21.98 + 0.437t + 1.72 I_{t2} + 9.22 I_{t3} + \\dots 18.58 I_{t12}$"
   ]
  },
  {
   "cell_type": "markdown",
   "id": "f1a51f72-eee1-4a4f-9cae-adf81aff0102",
   "metadata": {},
   "source": [
    "## (4) 모형설명(제약조건 주의!)\n",
    "\n",
    "- 1개월이 지날 때마다 월별수출액은 평균적으로 0.437억$증가\n",
    "\n",
    "- 2월은 1월에 비해 월별수출액이 1.72억$ 증가\n",
    "\n",
    "- 3월은 1월에 비해 월별수출액이 9.22억$ 증가\n",
    "\n",
    "- ...\n",
    "\n",
    "- 12월은 1월에 비해 평균 월별수출액이 18.58억$ 증가"
   ]
  },
  {
   "cell_type": "markdown",
   "id": "eb21555b-c2fd-4f64-9878-4c2cc4f34ec7",
   "metadata": {},
   "source": [
    "## (5)"
   ]
  },
  {
   "cell_type": "markdown",
   "id": "24de0ba7-0293-4126-a15a-a11aae6aee13",
   "metadata": {},
   "source": [
    "$\\hat Z_{n+l} = \\hat Z_n(l) = \\hat \\beta_0 + \\hat \\beta_1(n+l) + \\sum_{i=1}^{12} \\delta_i I_{t1}$"
   ]
  },
  {
   "cell_type": "code",
   "execution_count": 20,
   "id": "f9e601a5-0e7c-402a-9ab4-524335cd893c",
   "metadata": {},
   "outputs": [
    {
     "data": {
      "text/html": [
       "<table class=\"dataframe\">\n",
       "<caption>A data.frame: 12 × 2</caption>\n",
       "<thead>\n",
       "\t<tr><th scope=col>t</th><th scope=col>seasonal_I</th></tr>\n",
       "\t<tr><th scope=col>&lt;int&gt;</th><th scope=col>&lt;fct&gt;</th></tr>\n",
       "</thead>\n",
       "<tbody>\n",
       "\t<tr><td>87</td><td>3 </td></tr>\n",
       "\t<tr><td>88</td><td>4 </td></tr>\n",
       "\t<tr><td>89</td><td>5 </td></tr>\n",
       "\t<tr><td>90</td><td>6 </td></tr>\n",
       "\t<tr><td>91</td><td>7 </td></tr>\n",
       "\t<tr><td>92</td><td>8 </td></tr>\n",
       "\t<tr><td>93</td><td>9 </td></tr>\n",
       "\t<tr><td>94</td><td>10</td></tr>\n",
       "\t<tr><td>95</td><td>11</td></tr>\n",
       "\t<tr><td>96</td><td>12</td></tr>\n",
       "\t<tr><td>97</td><td>1 </td></tr>\n",
       "\t<tr><td>98</td><td>2 </td></tr>\n",
       "</tbody>\n",
       "</table>\n"
      ],
      "text/latex": [
       "A data.frame: 12 × 2\n",
       "\\begin{tabular}{ll}\n",
       " t & seasonal\\_I\\\\\n",
       " <int> & <fct>\\\\\n",
       "\\hline\n",
       "\t 87 & 3 \\\\\n",
       "\t 88 & 4 \\\\\n",
       "\t 89 & 5 \\\\\n",
       "\t 90 & 6 \\\\\n",
       "\t 91 & 7 \\\\\n",
       "\t 92 & 8 \\\\\n",
       "\t 93 & 9 \\\\\n",
       "\t 94 & 10\\\\\n",
       "\t 95 & 11\\\\\n",
       "\t 96 & 12\\\\\n",
       "\t 97 & 1 \\\\\n",
       "\t 98 & 2 \\\\\n",
       "\\end{tabular}\n"
      ],
      "text/markdown": [
       "\n",
       "A data.frame: 12 × 2\n",
       "\n",
       "| t &lt;int&gt; | seasonal_I &lt;fct&gt; |\n",
       "|---|---|\n",
       "| 87 | 3  |\n",
       "| 88 | 4  |\n",
       "| 89 | 5  |\n",
       "| 90 | 6  |\n",
       "| 91 | 7  |\n",
       "| 92 | 8  |\n",
       "| 93 | 9  |\n",
       "| 94 | 10 |\n",
       "| 95 | 11 |\n",
       "| 96 | 12 |\n",
       "| 97 | 1  |\n",
       "| 98 | 2  |\n",
       "\n"
      ],
      "text/plain": [
       "   t  seasonal_I\n",
       "1  87 3         \n",
       "2  88 4         \n",
       "3  89 5         \n",
       "4  90 6         \n",
       "5  91 7         \n",
       "6  92 8         \n",
       "7  93 9         \n",
       "8  94 10        \n",
       "9  95 11        \n",
       "10 96 12        \n",
       "11 97 1         \n",
       "12 98 2         "
      ]
     },
     "metadata": {},
     "output_type": "display_data"
    }
   ],
   "source": [
    "new_dt <- data.frame( t = n + (1:12),\n",
    " seasonal_I = as.factor(c(3:12,1,2)))\n",
    "new_dt\n"
   ]
  },
  {
   "cell_type": "markdown",
   "id": "bffb5fdb-1025-4e48-9810-f13eedfeb101",
   "metadata": {},
   "source": [
    "## (6) 95% 예측 구간"
   ]
  },
  {
   "cell_type": "code",
   "execution_count": 23,
   "id": "5b59c2ac-cd9a-4941-a827-4db3c8e43767",
   "metadata": {},
   "outputs": [
    {
     "data": {
      "text/html": [
       "<style>\n",
       ".dl-inline {width: auto; margin:0; padding: 0}\n",
       ".dl-inline>dt, .dl-inline>dd {float: none; width: auto; display: inline-block}\n",
       ".dl-inline>dt::after {content: \":\\0020\"; padding-right: .5ex}\n",
       ".dl-inline>dt:not(:first-of-type) {padding-left: .5ex}\n",
       "</style><dl class=dl-inline><dt>1</dt><dd>69.2346153846154</dd><dt>2</dt><dd>67.8260439560439</dd><dt>3</dt><dd>70.1946153846154</dd><dt>4</dt><dd>74.2946153846154</dd><dt>5</dt><dd>70.9289010989011</dd><dt>6</dt><dd>69.9374725274725</dd><dt>7</dt><dd>73.7131868131868</dd><dt>8</dt><dd>73.7617582417582</dd><dt>9</dt><dd>75.8903296703297</dd><dt>10</dt><dd>82.5317582417582</dd><dt>11</dt><dd>64.3892994505495</dd><dt>12</dt><dd>66.5442994505494</dd></dl>\n"
      ],
      "text/latex": [
       "\\begin{description*}\n",
       "\\item[1] 69.2346153846154\n",
       "\\item[2] 67.8260439560439\n",
       "\\item[3] 70.1946153846154\n",
       "\\item[4] 74.2946153846154\n",
       "\\item[5] 70.9289010989011\n",
       "\\item[6] 69.9374725274725\n",
       "\\item[7] 73.7131868131868\n",
       "\\item[8] 73.7617582417582\n",
       "\\item[9] 75.8903296703297\n",
       "\\item[10] 82.5317582417582\n",
       "\\item[11] 64.3892994505495\n",
       "\\item[12] 66.5442994505494\n",
       "\\end{description*}\n"
      ],
      "text/markdown": [
       "1\n",
       ":   69.23461538461542\n",
       ":   67.82604395604393\n",
       ":   70.19461538461544\n",
       ":   74.29461538461545\n",
       ":   70.92890109890116\n",
       ":   69.93747252747257\n",
       ":   73.71318681318688\n",
       ":   73.76175824175829\n",
       ":   75.890329670329710\n",
       ":   82.531758241758211\n",
       ":   64.389299450549512\n",
       ":   66.5442994505494\n",
       "\n"
      ],
      "text/plain": [
       "       1        2        3        4        5        6        7        8 \n",
       "69.23462 67.82604 70.19462 74.29462 70.92890 69.93747 73.71319 73.76176 \n",
       "       9       10       11       12 \n",
       "75.89033 82.53176 64.38930 66.54430 "
      ]
     },
     "metadata": {},
     "output_type": "display_data"
    }
   ],
   "source": [
    "predict(m2, new_dt)\n"
   ]
  },
  {
   "cell_type": "code",
   "execution_count": 24,
   "id": "26845236-561d-4d9c-a13a-a8c10ca00a4b",
   "metadata": {},
   "outputs": [
    {
     "data": {
      "text/html": [
       "<table class=\"dataframe\">\n",
       "<caption>A matrix: 12 × 3 of type dbl</caption>\n",
       "<thead>\n",
       "\t<tr><th></th><th scope=col>fit</th><th scope=col>lwr</th><th scope=col>upr</th></tr>\n",
       "</thead>\n",
       "<tbody>\n",
       "\t<tr><th scope=row>1</th><td>69.23462</td><td>59.82517</td><td>78.64407</td></tr>\n",
       "\t<tr><th scope=row>2</th><td>67.82604</td><td>58.41659</td><td>77.23549</td></tr>\n",
       "\t<tr><th scope=row>3</th><td>70.19462</td><td>60.78517</td><td>79.60407</td></tr>\n",
       "\t<tr><th scope=row>4</th><td>74.29462</td><td>64.88517</td><td>83.70407</td></tr>\n",
       "\t<tr><th scope=row>5</th><td>70.92890</td><td>61.51945</td><td>80.33835</td></tr>\n",
       "\t<tr><th scope=row>6</th><td>69.93747</td><td>60.52802</td><td>79.34692</td></tr>\n",
       "\t<tr><th scope=row>7</th><td>73.71319</td><td>64.30374</td><td>83.12264</td></tr>\n",
       "\t<tr><th scope=row>8</th><td>73.76176</td><td>64.35231</td><td>83.17121</td></tr>\n",
       "\t<tr><th scope=row>9</th><td>75.89033</td><td>66.48088</td><td>85.29978</td></tr>\n",
       "\t<tr><th scope=row>10</th><td>82.53176</td><td>73.12231</td><td>91.94121</td></tr>\n",
       "\t<tr><th scope=row>11</th><td>64.38930</td><td>55.00439</td><td>73.77421</td></tr>\n",
       "\t<tr><th scope=row>12</th><td>66.54430</td><td>57.15939</td><td>75.92921</td></tr>\n",
       "</tbody>\n",
       "</table>\n"
      ],
      "text/latex": [
       "A matrix: 12 × 3 of type dbl\n",
       "\\begin{tabular}{r|lll}\n",
       "  & fit & lwr & upr\\\\\n",
       "\\hline\n",
       "\t1 & 69.23462 & 59.82517 & 78.64407\\\\\n",
       "\t2 & 67.82604 & 58.41659 & 77.23549\\\\\n",
       "\t3 & 70.19462 & 60.78517 & 79.60407\\\\\n",
       "\t4 & 74.29462 & 64.88517 & 83.70407\\\\\n",
       "\t5 & 70.92890 & 61.51945 & 80.33835\\\\\n",
       "\t6 & 69.93747 & 60.52802 & 79.34692\\\\\n",
       "\t7 & 73.71319 & 64.30374 & 83.12264\\\\\n",
       "\t8 & 73.76176 & 64.35231 & 83.17121\\\\\n",
       "\t9 & 75.89033 & 66.48088 & 85.29978\\\\\n",
       "\t10 & 82.53176 & 73.12231 & 91.94121\\\\\n",
       "\t11 & 64.38930 & 55.00439 & 73.77421\\\\\n",
       "\t12 & 66.54430 & 57.15939 & 75.92921\\\\\n",
       "\\end{tabular}\n"
      ],
      "text/markdown": [
       "\n",
       "A matrix: 12 × 3 of type dbl\n",
       "\n",
       "| <!--/--> | fit | lwr | upr |\n",
       "|---|---|---|---|\n",
       "| 1 | 69.23462 | 59.82517 | 78.64407 |\n",
       "| 2 | 67.82604 | 58.41659 | 77.23549 |\n",
       "| 3 | 70.19462 | 60.78517 | 79.60407 |\n",
       "| 4 | 74.29462 | 64.88517 | 83.70407 |\n",
       "| 5 | 70.92890 | 61.51945 | 80.33835 |\n",
       "| 6 | 69.93747 | 60.52802 | 79.34692 |\n",
       "| 7 | 73.71319 | 64.30374 | 83.12264 |\n",
       "| 8 | 73.76176 | 64.35231 | 83.17121 |\n",
       "| 9 | 75.89033 | 66.48088 | 85.29978 |\n",
       "| 10 | 82.53176 | 73.12231 | 91.94121 |\n",
       "| 11 | 64.38930 | 55.00439 | 73.77421 |\n",
       "| 12 | 66.54430 | 57.15939 | 75.92921 |\n",
       "\n"
      ],
      "text/plain": [
       "   fit      lwr      upr     \n",
       "1  69.23462 59.82517 78.64407\n",
       "2  67.82604 58.41659 77.23549\n",
       "3  70.19462 60.78517 79.60407\n",
       "4  74.29462 64.88517 83.70407\n",
       "5  70.92890 61.51945 80.33835\n",
       "6  69.93747 60.52802 79.34692\n",
       "7  73.71319 64.30374 83.12264\n",
       "8  73.76176 64.35231 83.17121\n",
       "9  75.89033 66.48088 85.29978\n",
       "10 82.53176 73.12231 91.94121\n",
       "11 64.38930 55.00439 73.77421\n",
       "12 66.54430 57.15939 75.92921"
      ]
     },
     "metadata": {},
     "output_type": "display_data"
    }
   ],
   "source": [
    "pred <- predict(m2, new_dt, interval = 'prediction')\n",
    "pred"
   ]
  },
  {
   "cell_type": "markdown",
   "id": "bb41e8bd-45b3-4f67-84cb-994237ca3867",
   "metadata": {},
   "source": [
    "## (7)"
   ]
  },
  {
   "cell_type": "code",
   "execution_count": 25,
   "id": "4c93b452-f2f1-4d1c-8c4f-10e373fbd309",
   "metadata": {},
   "outputs": [
    {
     "data": {
      "image/png": "[encoded data removed]",
      "text/plain": [
       "plot without title"
      ]
     },
     "metadata": {
      "image/png": {
       "height": 420,
       "width": 420
      }
     },
     "output_type": "display_data"
    }
   ],
   "source": [
    "min_ <- min(c(z, pred[,2]))\n",
    "max_ <- max(c(z, pred[,3]))\n",
    "plot(t, z, type='n', ylim = c(min_, max_), xlim=c(1,(n+12)))\n",
    "lines(t, z, lwd=2)\n",
    "lines(n+(1:12), pred[,1], col=2, lwd=3)\n",
    "lines(n+(1:12), pred[,2], col=3, lwd=3, lty=2)\n",
    "lines(n+(1:12), pred[,3], col=3, lwd=3, lty=2)\n"
   ]
  },
  {
   "cell_type": "markdown",
   "id": "5b026ee3-49dd-4946-b15a-43d526299380",
   "metadata": {},
   "source": [
    "## (번외) 잔차검정"
   ]
  },
  {
   "cell_type": "code",
   "execution_count": 26,
   "id": "38cdc3ec-9b90-4c40-afb9-c753ae289756",
   "metadata": {},
   "outputs": [
    {
     "data": {
      "image/png": "[encoded data removed]",
      "text/plain": [
       "plot without title"
      ]
     },
     "metadata": {
      "image/png": {
       "height": 420,
       "width": 420
      }
     },
     "output_type": "display_data"
    }
   ],
   "source": [
    "resid_m <- resid(m2)\n",
    "plot(resid_m, pch=16, type='l')\n",
    "abline(h=0, lty=2)"
   ]
  },
  {
   "cell_type": "code",
   "execution_count": 27,
   "id": "e6d4c896-cbf7-4af0-a602-a5ff927d96e8",
   "metadata": {},
   "outputs": [
    {
     "data": {
      "text/plain": [
       "\n",
       "\tOne Sample t-test\n",
       "\n",
       "data:  resid_m\n",
       "t = 2.6111e-16, df = 85, p-value = 1\n",
       "alternative hypothesis: true mean is not equal to 0\n",
       "95 percent confidence interval:\n",
       " -0.861081  0.861081\n",
       "sample estimates:\n",
       "   mean of x \n",
       "1.130835e-16 \n"
      ]
     },
     "metadata": {},
     "output_type": "display_data"
    }
   ],
   "source": [
    "t.test(resid_m)"
   ]
  },
  {
   "cell_type": "code",
   "execution_count": 28,
   "id": "81a111a9-bc14-4eeb-b644-1309e22b9428",
   "metadata": {},
   "outputs": [
    {
     "data": {
      "image/png": "[encoded data removed]",
      "text/plain": [
       "Plot with title “Histogram of resid_m”"
      ]
     },
     "metadata": {
      "image/png": {
       "height": 420,
       "width": 420
      }
     },
     "output_type": "display_data"
    }
   ],
   "source": [
    "hist(resid_m)\n"
   ]
  },
  {
   "cell_type": "code",
   "execution_count": 29,
   "id": "04bc9270-59e6-481d-bd64-210a39b3379e",
   "metadata": {},
   "outputs": [
    {
     "data": {
      "text/plain": [
       "\n",
       "\tstudentized Breusch-Pagan test\n",
       "\n",
       "data:  m2\n",
       "BP = 18.466, df = 12, p-value = 0.1023\n"
      ]
     },
     "metadata": {},
     "output_type": "display_data"
    }
   ],
   "source": [
    "lmtest::bptest(m2)"
   ]
  },
  {
   "cell_type": "code",
   "execution_count": 30,
   "id": "4e89ee17-51e4-456e-9436-72cec6013efe",
   "metadata": {},
   "outputs": [
    {
     "data": {
      "text/plain": [
       "\n",
       "\tDurbin-Watson test\n",
       "\n",
       "data:  m2\n",
       "DW = 0.79196, p-value = 5.014e-09\n",
       "alternative hypothesis: true autocorrelation is not 0\n"
      ]
     },
     "metadata": {},
     "output_type": "display_data"
    }
   ],
   "source": [
    "lmtest::dwtest(m2, alternative=\"two.sided\")"
   ]
  },
  {
   "cell_type": "markdown",
   "id": "c7181f50-5ab2-49c9-b31a-a049c5c82146",
   "metadata": {},
   "source": [
    "## 다항추세 사용"
   ]
  },
  {
   "cell_type": "code",
   "execution_count": 31,
   "id": "a106235f-b207-4ee3-9499-a0e990189e1f",
   "metadata": {},
   "outputs": [
    {
     "data": {
      "text/plain": [
       "\n",
       "Call:\n",
       "lm(formula = z ~ t + I(t^2) + seasonal_I)\n",
       "\n",
       "Residuals:\n",
       "    Min      1Q  Median      3Q     Max \n",
       "-9.2252 -2.1156  0.0414  2.2895  7.5664 \n",
       "\n",
       "Coefficients:\n",
       "               Estimate Std. Error t value Pr(>|t|)    \n",
       "(Intercept)  17.3011107  1.6527443  10.468 4.12e-16 ***\n",
       "t             0.7955399  0.0637685  12.475  < 2e-16 ***\n",
       "I(t^2)       -0.0041187  0.0007103  -5.799 1.65e-07 ***\n",
       "seasonal_I2   1.7177908  1.8014987   0.954 0.343510    \n",
       "seasonal_I3   8.5584096  1.8691776   4.579 1.91e-05 ***\n",
       "seasonal_I4   6.6796790  1.8690680   3.574 0.000633 ***\n",
       "seasonal_I5   8.5863287  1.8690137   4.594 1.81e-05 ***\n",
       "seasonal_I6  12.2326445  1.8690050   6.545 7.54e-09 ***\n",
       "seasonal_I7   8.4214835  1.8690354   4.506 2.50e-05 ***\n",
       "seasonal_I8   6.9928457  1.8691016   3.741 0.000365 ***\n",
       "seasonal_I9  10.3395882  1.8692037   5.532 4.84e-07 ***\n",
       "seasonal_I10  9.9674253  1.8693449   5.332 1.07e-06 ***\n",
       "seasonal_I11 11.6835000  1.8695317   6.249 2.59e-08 ***\n",
       "seasonal_I12 17.9206692  1.8697737   9.584 1.72e-14 ***\n",
       "---\n",
       "Signif. codes:  0 ‘***’ 0.001 ‘**’ 0.01 ‘*’ 0.05 ‘.’ 0.1 ‘ ’ 1\n",
       "\n",
       "Residual standard error: 3.603 on 72 degrees of freedom\n",
       "Multiple R-squared:  0.9326,\tAdjusted R-squared:  0.9204 \n",
       "F-statistic: 76.58 on 13 and 72 DF,  p-value: < 2.2e-16\n"
      ]
     },
     "metadata": {},
     "output_type": "display_data"
    }
   ],
   "source": [
    "m3 <- lm(z ~ t + I(t^2) + seasonal_I)\n",
    "summary(m3)\n"
   ]
  },
  {
   "cell_type": "code",
   "execution_count": 33,
   "id": "d9a8dcdb-8c99-4aa9-8e02-afa36ce9f6e1",
   "metadata": {},
   "outputs": [
    {
     "data": {
      "text/plain": [
       "\n",
       "Call:\n",
       "lm(formula = z ~ t + seasonal_I)\n",
       "\n",
       "Residuals:\n",
       "     Min       1Q   Median       3Q      Max \n",
       "-10.8562  -2.2938   0.1567   2.6730   9.3951 \n",
       "\n",
       "Coefficients:\n",
       "             Estimate Std. Error t value Pr(>|t|)    \n",
       "(Intercept)  21.98000    1.73500  12.669  < 2e-16 ***\n",
       "t             0.43721    0.01893  23.097  < 2e-16 ***\n",
       "seasonal_I2   1.71779    2.16697   0.793 0.430512    \n",
       "seasonal_I3   9.21741    2.24422   4.107 0.000103 ***\n",
       "seasonal_I4   7.37163    2.24366   3.286 0.001566 ** \n",
       "seasonal_I5   9.30299    2.24326   4.147 8.98e-05 ***\n",
       "seasonal_I6  12.96578    2.24302   5.780 1.72e-07 ***\n",
       "seasonal_I7   9.16286    2.24294   4.085 0.000112 ***\n",
       "seasonal_I8   7.73422    2.24302   3.448 0.000941 ***\n",
       "seasonal_I9  11.07272    2.24326   4.936 4.88e-06 ***\n",
       "seasonal_I10 10.68409    2.24366   4.762 9.47e-06 ***\n",
       "seasonal_I11 12.37545    2.24422   5.514 5.03e-07 ***\n",
       "seasonal_I12 18.57967    2.24494   8.276 4.26e-12 ***\n",
       "---\n",
       "Signif. codes:  0 ‘***’ 0.001 ‘**’ 0.01 ‘*’ 0.05 ‘.’ 0.1 ‘ ’ 1\n",
       "\n",
       "Residual standard error: 4.334 on 73 degrees of freedom\n",
       "Multiple R-squared:  0.9011,\tAdjusted R-squared:  0.8848 \n",
       "F-statistic:  55.4 on 12 and 73 DF,  p-value: < 2.2e-16\n"
      ]
     },
     "metadata": {},
     "output_type": "display_data"
    }
   ],
   "source": [
    "summary(m2)"
   ]
  },
  {
   "cell_type": "markdown",
   "id": "6b37a766-01c7-4587-89c3-d81c7a1be636",
   "metadata": {},
   "source": [
    "- 2차 추세도 유의하고, 수정된 결정계수의 값이 증가 하였기 때문에 2차 추세 모형 사용 가능"
   ]
  },
  {
   "cell_type": "code",
   "execution_count": 34,
   "id": "dbf30d32-db7b-4332-917e-d29a70f9618f",
   "metadata": {},
   "outputs": [],
   "source": [
    "resid_m3 <- resid(m3)"
   ]
  },
  {
   "cell_type": "code",
   "execution_count": 35,
   "id": "98c89c08-46d3-40da-a152-b789ff68d51b",
   "metadata": {},
   "outputs": [
    {
     "data": {
      "image/png": "[encoded data removed]",
      "text/plain": [
       "plot without title"
      ]
     },
     "metadata": {
      "image/png": {
       "height": 420,
       "width": 420
      }
     },
     "output_type": "display_data"
    }
   ],
   "source": [
    "plot.ts(resid_m3)\n",
    "abline(h=0, lty=2)\n"
   ]
  },
  {
   "cell_type": "code",
   "execution_count": 36,
   "id": "fafc476b-7618-4c3b-8f4f-60666004d62b",
   "metadata": {},
   "outputs": [
    {
     "data": {
      "text/plain": [
       "\n",
       "\tOne Sample t-test\n",
       "\n",
       "data:  resid_m3\n",
       "t = -4.2693e-16, df = 85, p-value = 1\n",
       "alternative hypothesis: true mean is not equal to 0\n",
       "95 percent confidence interval:\n",
       " -0.7109349  0.7109349\n",
       "sample estimates:\n",
       "    mean of x \n",
       "-1.526557e-16 \n"
      ]
     },
     "metadata": {},
     "output_type": "display_data"
    }
   ],
   "source": [
    "t.test(resid_m3)\n"
   ]
  },
  {
   "cell_type": "code",
   "execution_count": 37,
   "id": "757fb21b-a343-48a4-962b-1d6b980489d6",
   "metadata": {},
   "outputs": [
    {
     "data": {
      "text/plain": [
       "\n",
       "\tstudentized Breusch-Pagan test\n",
       "\n",
       "data:  m3\n",
       "BP = 11.389, df = 13, p-value = 0.5783\n"
      ]
     },
     "metadata": {},
     "output_type": "display_data"
    }
   ],
   "source": [
    "lmtest::bptest(m3)\n"
   ]
  },
  {
   "cell_type": "code",
   "execution_count": 38,
   "id": "5e6a8c04-0481-486b-a624-9803f117536f",
   "metadata": {},
   "outputs": [
    {
     "data": {
      "text/plain": [
       "\n",
       "\tDurbin-Watson test\n",
       "\n",
       "data:  m3\n",
       "DW = 1.1633, p-value = 4.187e-05\n",
       "alternative hypothesis: true autocorrelation is greater than 0\n"
      ]
     },
     "metadata": {},
     "output_type": "display_data"
    }
   ],
   "source": [
    "lmtest::dwtest(m3)"
   ]
  },
  {
   "cell_type": "code",
   "execution_count": null,
   "id": "e1b38e73-333e-41c1-a7ad-4fd5b264bf59",
   "metadata": {},
   "outputs": [],
   "source": []
  }
 ],
 "metadata": {
  "kernelspec": {
   "display_name": "R",
   "language": "R",
   "name": "ir"
  },
  "language_info": {
   "codemirror_mode": "r",
   "file_extension": ".r",
   "mimetype": "text/x-r-source",
   "name": "R",
   "pygments_lexer": "r",
   "version": "4.2.2"
  }
 },
 "nbformat": 4,
 "nbformat_minor": 5
}
