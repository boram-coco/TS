{
 "cells": [
  {
   "cell_type": "raw",
   "id": "c213bc3c-313e-4839-832c-5c8cf0012132",
   "metadata": {},
   "source": [
    "---\n",
    "title: \"[TS] 10. Seasonal ARIMA 실습\"\n",
    "author: \"김보람\"\n",
    "date: \"12/04/2023\"\n",
    "categories:\n",
    "  - Time Series\n",
    "---"
   ]
  },
  {
   "cell_type": "code",
   "execution_count": null,
   "id": "84ee1732-621f-4475-85b9-ff03c40da7a3",
   "metadata": {},
   "outputs": [],
   "source": [
    "options(repr.plot.width = 12, repr.plot.height = 6)"
   ]
  },
  {
   "cell_type": "markdown",
   "id": "16f8ee00-fea0-4041-ac29-50c06674062c",
   "metadata": {},
   "source": [
    "# EX 10.2"
   ]
  },
  {
   "cell_type": "code",
   "execution_count": null,
   "id": "a29d2e65-5c5c-49a6-be35-5bdf56b02a98",
   "metadata": {},
   "outputs": [],
   "source": [
    "z <- scan(\"DAT/tourist.txt\")\n",
    "forecast::tsdisplay(z)\n"
   ]
  },
  {
   "cell_type": "markdown",
   "id": "41f993e2-26cd-4dc7-a09d-581af22fc332",
   "metadata": {},
   "source": [
    "- 이분산성, 추세와 계절성분을 모두 가지고 있다.\n",
    "\n",
    "- 변수변환을 통한 분산안정화 부터 진행\n"
   ]
  },
  {
   "cell_type": "markdown",
   "id": "52f8130d-2a20-4b5f-b211-3f993b0ed4a1",
   "metadata": {},
   "source": [
    "## (1) 분산안정화 : 변수변환"
   ]
  },
  {
   "cell_type": "code",
   "execution_count": null,
   "id": "01b7be2f-5671-418c-a8df-c6d30d62fd1e",
   "metadata": {},
   "outputs": [],
   "source": [
    "log_z = log(z)\n",
    "sqrt_z = sqrt(z)\n",
    "boxcox_z = forecast::BoxCox(z,lambda= forecast::BoxCox.lambda(z))"
   ]
  },
  {
   "cell_type": "code",
   "execution_count": null,
   "id": "baa823b2-3c01-4d03-8940-ba1b60552feb",
   "metadata": {},
   "outputs": [],
   "source": [
    "forecast::BoxCox.lambda(z)"
   ]
  },
  {
   "cell_type": "code",
   "execution_count": null,
   "id": "be37de69-4679-49c0-9ff4-ea7f05a7c604",
   "metadata": {},
   "outputs": [],
   "source": [
    "par(mfrow=c(2,2))\n",
    "plot.ts(z, main = \"original\")\n",
    "plot.ts(log_z, main = 'log')\n",
    "plot.ts(sqrt_z, main = 'sqrt')\n",
    "plot.ts(boxcox_z, main = 'Boxcox')"
   ]
  },
  {
   "cell_type": "code",
   "execution_count": null,
   "id": "fc383e07-f982-4c34-a1e5-f23361e1c451",
   "metadata": {},
   "outputs": [],
   "source": [
    "t = 1:length(z)\n",
    "lmtest::bptest(lm(z~t)) #H0 : 등분산이다\n",
    "lmtest::bptest(lm(log_z~t))\n",
    "lmtest::bptest(lm(sqrt_z~t))\n",
    "lmtest::bptest(lm(boxcox_z~t))"
   ]
  },
  {
   "cell_type": "markdown",
   "id": "1e0e60e5-e0e2-4723-ab74-039d9aaab928",
   "metadata": {},
   "source": [
    "- $\\lambda = 0.597$을 이용한 Boxcox 변환 수행"
   ]
  },
  {
   "cell_type": "code",
   "execution_count": null,
   "id": "670ad01b-cdcc-40fd-bcd7-2045bbf8ff30",
   "metadata": {},
   "outputs": [],
   "source": [
    "forecast::tsdisplay(boxcox_z)"
   ]
  },
  {
   "cell_type": "code",
   "execution_count": null,
   "id": "ad5e16a6-aacb-4343-a74f-45f752ef9d0e",
   "metadata": {},
   "outputs": [],
   "source": [
    "- 계절성분과 추세가 존재하므로 우선 계절차분을 통한 계절성분 제거"
   ]
  },
  {
   "cell_type": "markdown",
   "id": "262bbc41-675b-4ed9-bb77-6713d399684e",
   "metadata": {},
   "source": [
    "## (2) 계절차분"
   ]
  },
  {
   "cell_type": "code",
   "execution_count": null,
   "id": "3274c775-4dee-43b0-8eb0-45b3b7b1a3e2",
   "metadata": {},
   "outputs": [],
   "source": [
    "lag12_boxcox_z = diff(boxcox_z, lag=12)\n",
    "forecast::tsdisplay(lag12_boxcox_z)"
   ]
  },
  {
   "cell_type": "markdown",
   "id": "1c92dc87-08fa-4a7b-9d59-67bb420d024d",
   "metadata": {},
   "source": [
    "- 계절차분을 통해 제절추세는 제거 되었음\n",
    "\n",
    "- 결정적 추세는 없는 것으로 보이나, ACF가 조금은 천천히 감소하는 경향이 보이기 때문에 단위근 검정을 통해\n",
    "차분이 필요한가에 대한 여부 판정\n"
   ]
  },
  {
   "cell_type": "markdown",
   "id": "54ba5d87-2a11-4852-8f4f-892a4e83fc2d",
   "metadata": {},
   "source": [
    "## (3) 단위근 검정"
   ]
  },
  {
   "cell_type": "code",
   "execution_count": null,
   "id": "e5ca2803-fba6-4fed-90db-f6793cd6b55c",
   "metadata": {},
   "outputs": [],
   "source": [
    "##단위근 검정 : H0 : 단위근이 있다.\n",
    "fUnitRoots::adfTest(lag12_boxcox_z, lags = 1, type = \"c\")\n"
   ]
  },
  {
   "cell_type": "markdown",
   "id": "fb92decf-abc5-43fd-9e20-9b40c3c2ce05",
   "metadata": {},
   "source": [
    "- 유의확률이 아주 크지는 않지만, 유의수준 $\\alpha=0.05$하에서 귀무가설을 기각하지 못하기 때문에 차분을 하기로\n",
    "함\n"
   ]
  },
  {
   "cell_type": "code",
   "execution_count": null,
   "id": "ae0715e2-8f01-4ffe-b8df-d62c09685f94",
   "metadata": {},
   "outputs": [],
   "source": [
    "diff_lag12_boxcox_z = diff(lag12_boxcox_z)\n",
    "forecast::tsdisplay(diff_lag12_boxcox_z)\n"
   ]
  },
  {
   "cell_type": "code",
   "execution_count": null,
   "id": "d112099a-b228-4275-a01c-97f6529a30f0",
   "metadata": {},
   "outputs": [],
   "source": [
    "## 단위근검정 H0 : phi=1\n",
    "fUnitRoots::adfTest(diff_lag12_boxcox_z, lags = 1, type = \"nc\")\n"
   ]
  },
  {
   "cell_type": "markdown",
   "id": "783b6ff3-aa3e-4234-a00a-9766e1acedf2",
   "metadata": {},
   "source": [
    "- 차분한 후의 자료에 대해서는 더이상 차분이 필요하지 않음\n"
   ]
  },
  {
   "cell_type": "markdown",
   "id": "66b91d39-a9ac-49df-ae58-4a1ab54e3236",
   "metadata": {},
   "source": [
    "## (4) 모형식별"
   ]
  },
  {
   "cell_type": "code",
   "execution_count": null,
   "id": "8f73a141-c265-485a-a741-ead4d89bb809",
   "metadata": {},
   "outputs": [],
   "source": [
    "forecast::tsdisplay(diff_lag12_boxcox_z)"
   ]
  },
  {
   "cell_type": "markdown",
   "id": "a34a8d04-7d60-4e27-b9ee-ba09e274bbd7",
   "metadata": {},
   "source": [
    "- ACF는 1차와 12차에서 절단 형태이고, PACF는 1,2차와 12,13 시차 등에서 유의하게 나왔다.\n",
    "\n",
    "- ACF의 차수가 더 낮으므로 MA(1)과 계절형 MA(1)모형을 적합할 수 있다.\n",
    "\n",
    "- diff_lag12_boxcox_z = : $ARIMA(0, 0, 1)(0, 0, 1)_{12}$\n",
    "\n",
    "- lag12_boxcox_z = $ARIMA(0,1,1)(0,0,1)_{12}$\n",
    "\n",
    "- Boxcox_z = $ARIMA(0,1,1)(0,1,1)_{12}$"
   ]
  },
  {
   "cell_type": "markdown",
   "id": "d0a648b3-b9d4-433c-9279-69b413121906",
   "metadata": {},
   "source": [
    "## (5) 모형적합"
   ]
  },
  {
   "cell_type": "code",
   "execution_count": null,
   "id": "06604ba6-ef8f-466d-a8cf-dd3456a9a2af",
   "metadata": {},
   "outputs": [],
   "source": [
    "fit1 = arima(boxcox_z, order = c(0,1,1),\n",
    "     seasonal = list(order = c(0,1,1), period=12))\n",
    "fit1"
   ]
  },
  {
   "cell_type": "code",
   "execution_count": null,
   "id": "50a06faa-8325-4b09-b833-686ebe06d6b8",
   "metadata": {},
   "outputs": [],
   "source": [
    "lmtest::coeftest(fit1)"
   ]
  },
  {
   "cell_type": "markdown",
   "id": "bb0a0a6e-a84d-46c1-9522-3d9cf69679ff",
   "metadata": {},
   "source": [
    "$(1 − B)(1 − B^{12})BoxCox(Z) = (1 − 0.5307B)(1 − 0.6370B^{12})ε_t, ε+t ∼ WN(0, 4831)$"
   ]
  },
  {
   "cell_type": "markdown",
   "id": "b447c67e-9d7a-4f28-83f5-260ee12bbafb",
   "metadata": {},
   "source": [
    "## (6) 잔차분석"
   ]
  },
  {
   "cell_type": "code",
   "execution_count": null,
   "id": "70e82673-8e39-4486-aea4-61b2a6b4e359",
   "metadata": {},
   "outputs": [],
   "source": [
    "forecast::checkresiduals(fit1)"
   ]
  },
  {
   "cell_type": "markdown",
   "id": "82491645-022f-4472-846a-7e39248129aa",
   "metadata": {},
   "source": [
    "- 잔차의 평균은 0이다"
   ]
  },
  {
   "cell_type": "code",
   "execution_count": null,
   "id": "c8ef5c5f-c782-4fd7-8c0e-0f2b15a664cf",
   "metadata": {},
   "outputs": [],
   "source": [
    "t.test(resid(fit1))"
   ]
  },
  {
   "cell_type": "markdown",
   "id": "0fbbc6ef-a019-4dc5-b1a5-c8e3d6a127b5",
   "metadata": {},
   "source": [
    "- 등분산성을 만족하고, ACF가 모든 시차에서 유의하지 않으므로 WN라고 할 수 있다."
   ]
  },
  {
   "cell_type": "markdown",
   "id": "7a38f6e9-d1ff-4fc5-8dae-2b80b9cfeab5",
   "metadata": {},
   "source": [
    "`-` 포투맨투검정"
   ]
  },
  {
   "cell_type": "code",
   "execution_count": null,
   "id": "c235c27e-c296-4c85-af61-10ce395f487f",
   "metadata": {},
   "outputs": [],
   "source": [
    "#모형 적합도 검정 : H0 : rho1=...=rho_k=0\n",
    "Box.test(resid(fit1), lag=1, type = \"Ljung-Box\")\n",
    "Box.test(resid(fit1), lag=6, type = \"Ljung-Box\")\n",
    "Box.test(resid(fit1), lag=12, type = \"Ljung-Box\")"
   ]
  },
  {
   "cell_type": "markdown",
   "id": "c79be442-c983-44c8-9350-5079696908d3",
   "metadata": {},
   "source": [
    "- 모든 시차에 대해 유의확률값이 크기 때문에 WN라고 할 수 있다."
   ]
  },
  {
   "cell_type": "code",
   "execution_count": 1,
   "id": "68ed616e-c2c9-415f-9ee8-8fe5da6a2661",
   "metadata": {},
   "outputs": [],
   "source": [
    "# 잔차의 포트맨토 검정 ## H0 : rho1=...=rho_k=0\n",
    "#portes::LjungBox(fit1, lags=c(6,12,18,24))"
   ]
  },
  {
   "cell_type": "markdown",
   "id": "dafe1317-89ad-4070-9380-5ebdb170d32e",
   "metadata": {},
   "source": [
    "## (7) 과대적합"
   ]
  },
  {
   "cell_type": "markdown",
   "id": "25b56b2b-a4e4-4769-8e9f-09fd1e383036",
   "metadata": {},
   "source": [
    "- boxcox_z = $ARIMA(0,1,1)(0,1,1)_{12}$\n",
    "\n",
    "- $ARIMA(1,1,1)(0,1,1)_{12}, ARIMA(0,1,2)(0,1,1)_{12}$"
   ]
  },
  {
   "cell_type": "code",
   "execution_count": null,
   "id": "392149f6-6f4c-4a50-80f9-479a9b3c05e0",
   "metadata": {},
   "outputs": [],
   "source": [
    "fit2 <- arima(boxcox_z, order = c(1,1,1),\n",
    "     seasonal = list(order = c(0,1,1), period=12))\n",
    "fit2"
   ]
  },
  {
   "cell_type": "code",
   "execution_count": null,
   "id": "d344e946-5854-4954-84cb-94ede9be840c",
   "metadata": {},
   "outputs": [],
   "source": [
    "lmtest::coeftest(fit2)"
   ]
  },
  {
   "cell_type": "code",
   "execution_count": null,
   "id": "27a8ed20-fc8b-4cfa-9eef-1836b88260c2",
   "metadata": {},
   "outputs": [],
   "source": [
    "fit3 <- arima(boxcox_z, order = c(0,1,2),\n",
    "     seasonal = list(order = c(0,1,1), period=12))\n",
    "fit3\n"
   ]
  },
  {
   "cell_type": "code",
   "execution_count": null,
   "id": "9b0f9d79-5e37-46ad-8503-ebe51ebfd1a8",
   "metadata": {},
   "outputs": [],
   "source": [
    "lmtest::coeftest(fit3)"
   ]
  },
  {
   "cell_type": "code",
   "execution_count": null,
   "id": "30668221-c041-4e81-89c8-da8afe47cd9b",
   "metadata": {},
   "outputs": [],
   "source": [
    "fit1"
   ]
  },
  {
   "cell_type": "markdown",
   "id": "e6c55feb-f4af-45bb-803a-f7262df864df",
   "metadata": {},
   "source": [
    "- $ARIMA(0,1,2)(0,1,1)_{12}$모형 적합 결과가 더 좋기 때문에 최종 모형으로 선택"
   ]
  },
  {
   "cell_type": "code",
   "execution_count": null,
   "id": "22a988eb-cff0-4446-a7b7-769d59297492",
   "metadata": {},
   "outputs": [],
   "source": [
    "forecast::checkresiduals(fit3)"
   ]
  },
  {
   "cell_type": "code",
   "execution_count": null,
   "id": "11354e49-1f1f-4248-ab00-8396cdbfa335",
   "metadata": {},
   "outputs": [],
   "source": [
    "#모형 적합도 검정 : H0 : rho1=...=rho_k=0\n",
    "Box.test(resid(fit3), lag=1, type = \"Ljung-Box\")\n",
    "Box.test(resid(fit3), lag=6, type = \"Ljung-Box\")\n",
    "Box.test(resid(fit3), lag=12, type = \"Ljung-Box\")"
   ]
  },
  {
   "cell_type": "markdown",
   "id": "10b2b447-a77e-4823-8371-fe8080f84808",
   "metadata": {},
   "source": [
    "- 잔차검정 결과도 이상이 없으므로 fit3을 최종모형으로 선택"
   ]
  },
  {
   "cell_type": "markdown",
   "id": "374b46f3-dd32-4484-a0d0-78dd12a089d9",
   "metadata": {},
   "source": [
    "## (8) auto.arima"
   ]
  },
  {
   "cell_type": "code",
   "execution_count": null,
   "id": "8489a002-726c-488b-a7ef-b0f728d484b4",
   "metadata": {},
   "outputs": [],
   "source": [
    "forecast::auto.arima(ts(boxcox_z, frequency=12),\n",
    "                     test = \"adf\",\n",
    "                     seasonal = TRUE, trace = T)"
   ]
  },
  {
   "cell_type": "code",
   "execution_count": null,
   "id": "a537aaf2-beb5-4ce9-af09-c1f2bd5edddb",
   "metadata": {},
   "outputs": [],
   "source": [
    "fit4 <- forecast::auto.arima(ts(boxcox_z, frequency=12),\n",
    "                             test = \"adf\",\n",
    "                             seasonal = TRUE)\n"
   ]
  },
  {
   "cell_type": "code",
   "execution_count": null,
   "id": "f93b366c-bf49-4c00-9e18-c5f6c299f597",
   "metadata": {},
   "outputs": [],
   "source": [
    "lmtest::coeftest(fit4)"
   ]
  },
  {
   "cell_type": "markdown",
   "id": "6a88961d-31c3-487c-a576-606f755dd06c",
   "metadata": {},
   "source": [
    "- 최종선택 모형에 비해 aic나 분산이 조금 작지만 추가된 계수가 유의하지 않으므로 기존 모형 유지"
   ]
  },
  {
   "cell_type": "markdown",
   "id": "0588628f-80fe-44b4-bf0d-b58fcd61d484",
   "metadata": {},
   "source": [
    "## (9) 예측"
   ]
  },
  {
   "cell_type": "code",
   "execution_count": null,
   "id": "a8a4174c-f674-4638-8d56-b7a98d73fc34",
   "metadata": {},
   "outputs": [],
   "source": [
    "fore_fit <- forecast::forecast(fit3, 24)"
   ]
  },
  {
   "cell_type": "code",
   "execution_count": null,
   "id": "56d97c8c-38bb-4b5b-bb3f-0af1a055f4dc",
   "metadata": {},
   "outputs": [],
   "source": [
    "fore_fit"
   ]
  },
  {
   "cell_type": "code",
   "execution_count": null,
   "id": "af7d2647-595d-4ee4-b713-46a6722766e2",
   "metadata": {},
   "outputs": [],
   "source": [
    "plot(fore_fit)"
   ]
  },
  {
   "cell_type": "code",
   "execution_count": null,
   "id": "bd166825-a218-4c5a-8fdc-67145e4fb08b",
   "metadata": {},
   "outputs": [],
   "source": [
    "astsa::sarima.for(boxcox_z, 24, p=0,d=1,q=2,P=0, D=1, Q=1, S=12)"
   ]
  },
  {
   "cell_type": "markdown",
   "id": "3d8180d9-bef2-4e1e-abd5-e537ca74b8c0",
   "metadata": {},
   "source": [
    "- BoxCox 역변환을 해야함"
   ]
  },
  {
   "cell_type": "code",
   "execution_count": null,
   "id": "95c8c9ff-93f8-4abe-adc4-13794b5295e1",
   "metadata": {},
   "outputs": [],
   "source": [
    "forecast_z = forecast::InvBoxCox(fore_fit$mean, lambda=forecast::BoxCox.lambda(z))\n",
    "forecast_z\n"
   ]
  },
  {
   "cell_type": "code",
   "execution_count": null,
   "id": "9a74ebc8-f067-4a16-97e3-7dce0ff397ff",
   "metadata": {},
   "outputs": [],
   "source": [
    "forecast_z_upper95 = forecast::InvBoxCox(fore_fit$upper[,2], lambda=forecast::BoxCox.lambda(z))\n",
    "forecast_z_lower95 = forecast::InvBoxCox(fore_fit$lower[,2], lambda=forecast::BoxCox.lambda(z))\n"
   ]
  },
  {
   "cell_type": "code",
   "execution_count": null,
   "id": "a3f3cfaa-91dd-45a0-aca9-512404efa480",
   "metadata": {},
   "outputs": [],
   "source": [
    "plot(1:(length(z)+24), c(z, forecast_z_upper95), type='n', xlab='t', ylab='z')\n",
    "lines(1:length(z),z)\n",
    "#lines((length(z)+1) : (length(z)+24), forecast_z, col='red')\n",
    "#lines((length(z)+1) : (length(z)+24), forecast::InvBoxCox(fore_fit$lower[,2], lambda=forecast::BoxCox.la\n",
    "#lines((length(z)+1) : (length(z)+24), forecast::InvBoxCox(fore_fit$upper[,2], lambda=forecast::BoxCox.la\n"
   ]
  },
  {
   "cell_type": "markdown",
   "id": "700087b1-3839-497e-b869-06ffc1f82b2f",
   "metadata": {},
   "source": [
    "# Simulation"
   ]
  },
  {
   "cell_type": "code",
   "execution_count": 2,
   "id": "06130ef9-c424-4487-82ba-2575c60efda3",
   "metadata": {},
   "outputs": [],
   "source": [
    "#astsa::sarima.sim(ar = NULL, d = 0, ma = NULL, sar = NULL, D = 0, sma = NULL, S = NULL,\n",
    "# n = 500, rand.gen = rnorm, innov = NULL, burnin = NA, t0 = 0, ...)\n",
    "#sarima::sim_sarima(model=list(ar,iorder,ma, sar, siorder, sma, nseasons, sigma2),\n",
    "# n = NA, rand.gen = rnorm, n.start = NA, x, eps,\n",
    "# xcenter = NULL, xintercept = NULL, ...)\n"
   ]
  },
  {
   "cell_type": "code",
   "execution_count": null,
   "id": "b75a74a3-e71f-401a-9c94-302c7e459c48",
   "metadata": {},
   "outputs": [],
   "source": [
    "### ARIMA(p,d,q)(P,D,Q)_s\n",
    "x <- sarima::sim_sarima(n=100, n.start=12,\n",
    "                         model=list(ar = 0.7, siorder=1, nseasons=12, sigma2 = 1)) # SMA(1)\n",
    "forecast::tsdisplay(x)"
   ]
  },
  {
   "cell_type": "code",
   "execution_count": null,
   "id": "4bd46895-2431-4914-8904-05cc30ec2acf",
   "metadata": {},
   "outputs": [],
   "source": [
    "x <- astsa::sarima.sim(ar = 0.5, d = 1, ma = 0.1, sar = 0.1, D = 1, sma = 0, S = 12, n = 100)\n",
    "forecast::tsdisplay(x)"
   ]
  },
  {
   "cell_type": "code",
   "execution_count": null,
   "id": "d7397691-7400-470e-a859-ffaab1980603",
   "metadata": {},
   "outputs": [],
   "source": []
  },
  {
   "cell_type": "code",
   "execution_count": null,
   "id": "74f81986-4e86-4a91-9291-2bda8b97b56b",
   "metadata": {},
   "outputs": [],
   "source": []
  },
  {
   "cell_type": "code",
   "execution_count": null,
   "id": "0f2206b8-62ef-479d-bc5d-76885daf707c",
   "metadata": {},
   "outputs": [],
   "source": []
  },
  {
   "cell_type": "code",
   "execution_count": null,
   "id": "b5d5c4f9-ae2d-4fa1-bcf1-71ad00856eba",
   "metadata": {},
   "outputs": [],
   "source": []
  },
  {
   "cell_type": "code",
   "execution_count": null,
   "id": "9612f8c9-2179-4616-b69b-b9533a16e788",
   "metadata": {},
   "outputs": [],
   "source": []
  },
  {
   "cell_type": "code",
   "execution_count": null,
   "id": "fce5f506-ae56-475a-b444-c22dad34ef89",
   "metadata": {},
   "outputs": [],
   "source": []
  },
  {
   "cell_type": "code",
   "execution_count": null,
   "id": "715070d0-a3f8-4452-ae0c-64c9b0801295",
   "metadata": {},
   "outputs": [],
   "source": []
  },
  {
   "cell_type": "code",
   "execution_count": null,
   "id": "379a24e6-2192-4567-85e8-e8350a4cebe8",
   "metadata": {},
   "outputs": [],
   "source": []
  },
  {
   "cell_type": "code",
   "execution_count": null,
   "id": "13d3309e-26e1-49fb-9651-ce9a7ca09590",
   "metadata": {},
   "outputs": [],
   "source": []
  },
  {
   "cell_type": "code",
   "execution_count": null,
   "id": "b1d172a7-851f-4c9c-b813-d7fa73c99f4f",
   "metadata": {},
   "outputs": [],
   "source": []
  },
  {
   "cell_type": "code",
   "execution_count": null,
   "id": "1e3eda4a-ba92-4463-9bec-c9ab1e208680",
   "metadata": {},
   "outputs": [],
   "source": []
  },
  {
   "cell_type": "code",
   "execution_count": null,
   "id": "a42b2fc4-2fe0-4258-8bda-9f5928e79516",
   "metadata": {},
   "outputs": [],
   "source": []
  },
  {
   "cell_type": "code",
   "execution_count": null,
   "id": "a84318fc-63e9-419b-9337-77ab0a455379",
   "metadata": {},
   "outputs": [],
   "source": []
  },
  {
   "cell_type": "code",
   "execution_count": null,
   "id": "add87188-2bf9-4b7e-ab9e-584d492a0997",
   "metadata": {},
   "outputs": [],
   "source": []
  },
  {
   "cell_type": "code",
   "execution_count": null,
   "id": "a6080e98-a90b-407d-8b87-5d0d2b20dadf",
   "metadata": {},
   "outputs": [],
   "source": []
  },
  {
   "cell_type": "code",
   "execution_count": null,
   "id": "c56a7119-b7ec-4273-9f9c-fb66a23eaeb0",
   "metadata": {},
   "outputs": [],
   "source": []
  },
  {
   "cell_type": "code",
   "execution_count": null,
   "id": "61fe0204-8aa0-4e81-84de-3296e9a20a32",
   "metadata": {},
   "outputs": [],
   "source": []
  },
  {
   "cell_type": "code",
   "execution_count": null,
   "id": "96aec663-2cb2-4bee-bc4a-8101a3b0197a",
   "metadata": {},
   "outputs": [],
   "source": []
  },
  {
   "cell_type": "code",
   "execution_count": null,
   "id": "45c974b2-b545-4578-aea9-d30199b2d11b",
   "metadata": {},
   "outputs": [],
   "source": []
  },
  {
   "cell_type": "code",
   "execution_count": null,
   "id": "7199c635-7396-4602-84a4-1e70f699172b",
   "metadata": {},
   "outputs": [],
   "source": []
  },
  {
   "cell_type": "code",
   "execution_count": null,
   "id": "eb69618a-fcb1-47e2-bcc3-db6c6926bf97",
   "metadata": {},
   "outputs": [],
   "source": []
  },
  {
   "cell_type": "code",
   "execution_count": null,
   "id": "46b7b4ef-1b90-4fc9-b334-3b7c7b05e115",
   "metadata": {},
   "outputs": [],
   "source": []
  },
  {
   "cell_type": "code",
   "execution_count": null,
   "id": "cfeb8237-65a1-4ce3-84a4-be82677320df",
   "metadata": {},
   "outputs": [],
   "source": []
  },
  {
   "cell_type": "code",
   "execution_count": null,
   "id": "38d3617c-84df-4c48-b82d-6337ebea49aa",
   "metadata": {},
   "outputs": [],
   "source": []
  },
  {
   "cell_type": "code",
   "execution_count": null,
   "id": "a020a9fc-fef5-49cd-a4c1-bc5198411004",
   "metadata": {},
   "outputs": [],
   "source": []
  },
  {
   "cell_type": "code",
   "execution_count": null,
   "id": "6895b562-ee56-4bd3-8679-e4d30b1dfbc2",
   "metadata": {},
   "outputs": [],
   "source": []
  },
  {
   "cell_type": "code",
   "execution_count": null,
   "id": "4188dd51-1e1c-448c-976c-2f1fb0bbd896",
   "metadata": {},
   "outputs": [],
   "source": []
  },
  {
   "cell_type": "code",
   "execution_count": null,
   "id": "34132c27-a123-474a-a363-b692c016bb05",
   "metadata": {},
   "outputs": [],
   "source": []
  },
  {
   "cell_type": "code",
   "execution_count": null,
   "id": "555676b9-d330-432f-9ab9-3820b345d1dc",
   "metadata": {},
   "outputs": [],
   "source": []
  },
  {
   "cell_type": "code",
   "execution_count": null,
   "id": "e202f755-e98a-4364-a158-c0feb2534a2b",
   "metadata": {},
   "outputs": [],
   "source": []
  },
  {
   "cell_type": "code",
   "execution_count": null,
   "id": "1b158c57-8cc5-4406-8500-b95a24da5404",
   "metadata": {},
   "outputs": [],
   "source": []
  },
  {
   "cell_type": "code",
   "execution_count": null,
   "id": "84837113-b3c0-4fd4-87f1-a0188c6f3b2c",
   "metadata": {},
   "outputs": [],
   "source": []
  },
  {
   "cell_type": "code",
   "execution_count": null,
   "id": "4358c3c5-bc39-4a89-a615-aa5bc93a58d9",
   "metadata": {},
   "outputs": [],
   "source": []
  },
  {
   "cell_type": "code",
   "execution_count": null,
   "id": "a2413839-1509-4e6f-b31a-b67c637c08a7",
   "metadata": {},
   "outputs": [],
   "source": []
  }
 ],
 "metadata": {
  "kernelspec": {
   "display_name": "R",
   "language": "R",
   "name": "ir"
  },
  "language_info": {
   "codemirror_mode": "r",
   "file_extension": ".r",
   "mimetype": "text/x-r-source",
   "name": "R",
   "pygments_lexer": "r",
   "version": "4.2.2"
  }
 },
 "nbformat": 4,
 "nbformat_minor": 5
}
